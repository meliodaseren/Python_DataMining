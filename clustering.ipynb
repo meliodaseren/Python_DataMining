{
 "cells": [
  {
   "cell_type": "markdown",
   "metadata": {},
   "source": [
    "## K-Means Clustering"
   ]
  },
  {
   "cell_type": "code",
   "execution_count": 1,
   "metadata": {
    "collapsed": true
   },
   "outputs": [],
   "source": [
    "# coding=utf-8\n",
    "import numpy as np\n",
    "import matplotlib.pyplot as plt\n",
    "from sklearn.cluster import KMeans"
   ]
  },
  {
   "cell_type": "code",
   "execution_count": 12,
   "metadata": {
    "collapsed": true
   },
   "outputs": [],
   "source": [
    "# 讀取城市經緯度\n",
    "X = []\n",
    "f = open(\"city.txt\",encoding=\"utf-8\")\n",
    "for v in f:\n",
    "    X.append([float(v.split(\",\")[2]), float(v.split(\",\")[3])])"
   ]
  },
  {
   "cell_type": "code",
   "execution_count": 13,
   "metadata": {},
   "outputs": [
    {
     "data": {
      "text/plain": [
       "[[39.55, 116.24],\n",
       " [26.05, 119.18],\n",
       " [25.58, 119.31],\n",
       " [27.06, 119.39],\n",
       " [25.42, 119.23],\n",
       " [27.03, 118.2],\n",
       " [27.21, 118.07],\n",
       " [24.49, 118.35],\n",
       " [24.26, 117.48],\n",
       " [25.06, 117.01],\n",
       " [24.57, 118.23],\n",
       " [26.38, 118.1],\n",
       " [26.39, 119.31],\n",
       " [24.26, 119.01],\n",
       " [24.56, 118.36],\n",
       " [26.13, 117.36],\n",
       " [27.2, 117.29],\n",
       " [24.44, 118.38],\n",
       " [27.46, 118.02],\n",
       " [24.27, 118.06],\n",
       " [25.58, 117.23],\n",
       " [25.17, 117.24],\n",
       " [24.31, 117.39],\n",
       " [36.04, 103.51],\n",
       " [36.33, 104.12],\n",
       " [40.08, 94.41],\n",
       " [39.48, 98.14],\n",
       " [38.28, 102.1],\n",
       " [39.44, 98.31],\n",
       " [35.37, 103.12],\n",
       " [35.32, 106.4],\n",
       " [34.37, 105.42],\n",
       " [37.56, 102.39],\n",
       " [35.45, 107.4],\n",
       " [39.49, 97.35],\n",
       " [38.56, 100.26],\n",
       " [23.08, 113.14],\n",
       " [23.16, 116.36],\n",
       " [23.4, 116.38],\n",
       " [23.28, 116.46],\n",
       " [23.33, 113.33],\n",
       " [23.02, 113.45],\n",
       " [22.12, 112.19],\n",
       " [23.02, 113.06],\n",
       " [22.53, 112.5],\n",
       " [23.02, 112.26],\n",
       " [21.54, 110.5],\n",
       " [22.46, 112.57],\n",
       " [23.43, 114.41],\n",
       " [23.23, 113.12],\n",
       " [21.39, 110.37],\n",
       " [22.48, 114.28],\n",
       " [23.05, 114.22],\n",
       " [22.35, 113.04],\n",
       " [22.32, 116.21],\n",
       " [22.22, 112.4],\n",
       " [25.09, 113.21],\n",
       " [20.54, 110.04],\n",
       " [21.37, 110.17],\n",
       " [24.48, 112.23],\n",
       " [22.46, 111.33],\n",
       " [21.4, 110.53],\n",
       " [24.19, 116.07],\n",
       " [23.01, 113.09],\n",
       " [22.57, 113.22],\n",
       " [23.18, 116.1],\n",
       " [23.42, 113.01],\n",
       " [23.1, 112.52],\n",
       " [23.22, 116.41],\n",
       " [22.47, 115.21],\n",
       " [24.48, 113.37],\n",
       " [22.33, 114.07],\n",
       " [22.5, 113.15],\n",
       " [23.21, 112.41],\n",
       " [22.15, 112.48],\n",
       " [21.26, 110.47],\n",
       " [22.32, 113.01],\n",
       " [24.09, 115.43],\n",
       " [22.1, 111.48],\n",
       " [21.5, 111.58],\n",
       " [24.1, 113.22],\n",
       " [22.57, 112.02],\n",
       " [23.18, 113.49],\n",
       " [21.11, 110.24],\n",
       " [23.03, 112.27],\n",
       " [22.31, 113.22],\n",
       " [22.17, 113.34],\n",
       " [22.48, 108.19],\n",
       " [21.28, 109.07],\n",
       " [22.42, 110.21],\n",
       " [23.54, 106.36],\n",
       " [21.37, 108.2],\n",
       " [23.06, 109.36],\n",
       " [25.17, 110.17],\n",
       " [23.22, 110.04],\n",
       " [24.42, 108.03],\n",
       " [23.47, 108.52],\n",
       " [23.19, 109.24],\n",
       " [22.07, 106.44],\n",
       " [21.57, 108.37],\n",
       " [23.29, 111.2],\n",
       " [22.38, 110.09],\n",
       " [24.28, 108.4],\n",
       " [26.35, 106.42],\n",
       " [26.14, 105.55],\n",
       " [27.18, 105.18],\n",
       " [28.34, 105.42],\n",
       " [26.15, 107.31],\n",
       " [26.35, 107.58],\n",
       " [26.35, 104.5],\n",
       " [26.33, 106.27],\n",
       " [27.43, 109.12],\n",
       " [25.05, 104.53],\n",
       " [27.42, 106.55],\n",
       " [20.02, 110.2],\n",
       " [19.31, 109.34],\n",
       " [19.14, 110.28],\n",
       " [19.59, 110.21],\n",
       " [18.14, 109.31],\n",
       " [18.46, 109.31],\n",
       " [38.02, 114.3],\n",
       " [38.24, 115.2],\n",
       " [38.51, 115.3],\n",
       " [39.06, 116.24],\n",
       " [38.04, 116.34],\n",
       " [38.18, 116.52],\n",
       " [40.59, 117.57],\n",
       " [38.3, 115.0],\n",
       " [39.34, 118.06],\n",
       " [39.2, 115.51],\n",
       " [38.02, 114.5],\n",
       " [36.36, 114.28],\n",
       " [38.26, 116.05],\n",
       " [37.44, 115.42],\n",
       " [38.21, 117.21],\n",
       " [38.02, 115.02],\n",
       " [37.34, 115.33],\n",
       " [39.31, 116.42],\n",
       " [38.04, 114.19],\n",
       " [37.22, 115.23],\n",
       " [39.55, 119.35],\n",
       " [38.42, 116.07],\n",
       " [39.58, 117.04],\n",
       " [36.51, 114.3],\n",
       " [38.01, 115.32],\n",
       " [39.36, 118.11],\n",
       " [36.42, 114.11],\n",
       " [37.04, 114.3],\n",
       " [37.54, 115.12],\n",
       " [38.2, 114.41],\n",
       " [40.48, 114.53],\n",
       " [39.29, 115.59],\n",
       " [40.11, 117.58],\n",
       " [34.46, 113.4],\n",
       " [36.06, 114.21],\n",
       " [34.12, 113.47],\n",
       " [34.27, 113.02],\n",
       " [32.42, 112.05],\n",
       " [34.46, 112.58],\n",
       " [35.54, 114.11],\n",
       " [35.27, 113.47],\n",
       " [35.14, 113.12],\n",
       " [35.04, 112.35],\n",
       " [34.47, 114.21],\n",
       " [34.31, 110.52],\n",
       " [36.03, 113.49],\n",
       " [33.33, 114.02],\n",
       " [34.41, 112.27],\n",
       " [33.0, 112.32],\n",
       " [33.44, 113.17],\n",
       " [35.44, 115.01],\n",
       " [35.05, 112.57],\n",
       " [34.09, 112.5],\n",
       " [34.47, 111.12],\n",
       " [34.26, 115.38],\n",
       " [35.24, 114.03],\n",
       " [33.17, 113.3],\n",
       " [33.26, 114.54],\n",
       " [34.46, 113.21],\n",
       " [34.31, 113.22],\n",
       " [35.18, 113.52],\n",
       " [32.07, 114.04],\n",
       " [34.24, 113.43],\n",
       " [34.01, 113.49],\n",
       " [34.43, 112.47],\n",
       " [34.43, 111.55],\n",
       " [34.09, 113.28],\n",
       " [33.37, 114.38],\n",
       " [32.58, 114.01],\n",
       " [45.44, 126.36],\n",
       " [45.32, 126.58],\n",
       " [46.24, 125.18],\n",
       " [48.15, 126.31],\n",
       " [46.36, 125.01],\n",
       " [47.15, 132.02],\n",
       " [44.35, 129.21],\n",
       " [47.28, 126.57],\n",
       " [47.2, 130.16],\n",
       " [50.14, 127.29],\n",
       " [46.47, 130.22],\n",
       " [45.17, 130.57],\n",
       " [45.32, 131.5],\n",
       " [44.35, 129.36],\n",
       " [48.29, 124.51],\n",
       " [44.21, 129.28],\n",
       " [47.2, 123.57],\n",
       " [45.48, 130.49],\n",
       " [45.22, 126.15],\n",
       " [45.14, 127.55],\n",
       " [46.38, 131.11],\n",
       " [44.25, 131.11],\n",
       " [46.38, 126.59],\n",
       " [46.59, 128.01],\n",
       " [47.39, 132.3],\n",
       " [44.55, 127.11],\n",
       " [48.38, 126.07],\n",
       " [47.42, 128.56],\n",
       " [46.04, 125.58],\n",
       " [30.35, 114.17],\n",
       " [31.15, 113.41],\n",
       " [30.5, 111.47],\n",
       " [32.33, 108.3],\n",
       " [30.06, 114.58],\n",
       " [30.16, 109.29],\n",
       " [30.23, 114.52],\n",
       " [31.37, 113.48],\n",
       " [29.48, 113.27],\n",
       " [30.12, 115.06],\n",
       " [30.27, 114.52],\n",
       " [31.02, 112.12],\n",
       " [30.18, 112.16],\n",
       " [32.23, 111.4],\n",
       " [30.18, 108.56],\n",
       " [31.1, 115.01],\n",
       " [29.42, 113.51],\n",
       " [30.26, 112.53],\n",
       " [29.43, 112.24],\n",
       " [32.4, 110.47],\n",
       " [31.42, 113.22],\n",
       " [30.39, 113.1],\n",
       " [29.51, 115.33],\n",
       " [32.02, 112.08],\n",
       " [29.53, 114.17],\n",
       " [30.22, 113.27],\n",
       " [30.56, 113.54],\n",
       " [30.42, 111.17],\n",
       " [31.42, 112.15],\n",
       " [30.57, 113.33],\n",
       " [32.07, 112.44],\n",
       " [30.23, 111.27],\n",
       " [31.1, 112.34],\n",
       " [28.12, 112.59],\n",
       " [29.02, 111.51],\n",
       " [25.46, 113.02],\n",
       " [26.53, 112.37],\n",
       " [27.07, 109.59],\n",
       " [27.33, 109.58],\n",
       " [29.38, 111.52],\n",
       " [28.18, 109.43],\n",
       " [26.24, 112.51],\n",
       " [27.42, 111.26],\n",
       " [26.26, 111.35],\n",
       " [27.41, 111.41],\n",
       " [27.4, 113.3],\n",
       " [29.29, 113.27],\n",
       " [28.09, 113.37],\n",
       " [27.44, 111.59],\n",
       " [28.49, 113.03],\n",
       " [27.54, 112.29],\n",
       " [27.14, 111.28],\n",
       " [26.43, 110.37],\n",
       " [27.52, 112.53],\n",
       " [27.44, 112.31],\n",
       " [28.36, 112.2],\n",
       " [26.13, 111.37],\n",
       " [28.5, 112.22],\n",
       " [29.22, 113.06],\n",
       " [29.08, 110.29],\n",
       " [27.51, 113.09],\n",
       " [25.58, 113.13],\n",
       " [43.54, 125.19],\n",
       " [45.38, 122.5],\n",
       " [41.56, 126.26],\n",
       " [45.3, 124.18],\n",
       " [44.32, 125.42],\n",
       " [43.22, 128.13],\n",
       " [43.31, 124.49],\n",
       " [42.32, 129.0],\n",
       " [42.58, 126.44],\n",
       " [42.52, 130.22],\n",
       " [41.08, 126.11],\n",
       " [43.42, 127.21],\n",
       " [43.52, 126.33],\n",
       " [44.09, 125.51],\n",
       " [42.54, 125.09],\n",
       " [41.49, 126.53],\n",
       " [42.46, 129.26],\n",
       " [42.32, 125.4],\n",
       " [44.24, 126.57],\n",
       " [43.1, 124.22],\n",
       " [45.11, 124.49],\n",
       " [45.2, 122.47],\n",
       " [41.43, 125.56],\n",
       " [42.57, 129.51],\n",
       " [42.54, 129.3],\n",
       " [44.49, 126.32],\n",
       " [32.03, 118.46],\n",
       " [31.39, 120.43],\n",
       " [31.47, 119.58],\n",
       " [32.0, 119.32],\n",
       " [32.51, 120.19],\n",
       " [32.47, 119.27],\n",
       " [31.53, 121.09],\n",
       " [33.3, 119.09],\n",
       " [33.36, 119.02],\n",
       " [32.26, 119.32],\n",
       " [32.34, 120.08],\n",
       " [31.54, 120.17],\n",
       " [32.02, 120.17],\n",
       " [31.46, 119.33],\n",
       " [31.23, 120.57],\n",
       " [34.36, 119.1],\n",
       " [31.26, 119.29],\n",
       " [32.01, 120.51],\n",
       " [34.19, 117.59],\n",
       " [31.48, 121.39],\n",
       " [32.23, 120.33],\n",
       " [33.58, 118.18],\n",
       " [31.19, 120.37],\n",
       " [31.27, 121.06],\n",
       " [32.1, 120.01],\n",
       " [32.3, 119.54],\n",
       " [32.05, 121.03],\n",
       " [31.1, 120.39],\n",
       " [31.34, 120.18],\n",
       " [32.56, 119.5],\n",
       " [34.22, 118.2],\n",
       " [34.15, 117.11],\n",
       " [33.22, 120.08],\n",
       " [32.14, 119.49],\n",
       " [32.23, 119.26],\n",
       " [31.21, 119.49],\n",
       " [32.16, 119.1],\n",
       " [31.52, 120.32],\n",
       " [32.11, 119.27],\n",
       " [28.4, 115.55],\n",
       " [28.57, 117.35],\n",
       " [28.12, 115.48],\n",
       " [28.52, 114.56],\n",
       " [28.25, 115.22],\n",
       " [27.07, 114.58],\n",
       " [29.17, 117.13],\n",
       " [26.34, 114.1],\n",
       " [29.43, 115.58],\n",
       " [28.58, 117.08],\n",
       " [27.59, 116.21],\n",
       " [27.37, 113.5],\n",
       " [29.4, 115.38],\n",
       " [25.53, 116.01],\n",
       " [25.27, 117.58],\n",
       " [27.48, 114.56],\n",
       " [27.47, 114.23],\n",
       " [28.14, 117.03],\n",
       " [28.03, 115.32],\n",
       " [41.48, 123.25],\n",
       " [41.07, 123.0],\n",
       " [41.48, 120.47],\n",
       " [41.18, 123.46],\n",
       " [41.34, 120.27],\n",
       " [38.55, 121.36],\n",
       " [40.08, 124.22],\n",
       " [40.37, 122.31],\n",
       " [39.53, 124.08],\n",
       " [40.28, 124.02],\n",
       " [41.51, 123.54],\n",
       " [42.01, 121.39],\n",
       " [40.24, 122.21],\n",
       " [40.51, 122.43],\n",
       " [40.45, 120.51],\n",
       " [41.07, 121.09],\n",
       " [42.32, 124.02],\n",
       " [41.16, 123.12],\n",
       " [41.1, 121.21],\n",
       " [41.14, 119.22],\n",
       " [41.07, 122.03],\n",
       " [39.23, 121.58],\n",
       " [42.28, 123.32],\n",
       " [42.18, 123.51],\n",
       " [39.37, 122.0],\n",
       " [40.37, 120.41],\n",
       " [41.59, 122.49],\n",
       " [40.39, 122.13],\n",
       " [39.41, 122.58],\n",
       " [40.48, 111.41],\n",
       " [40.39, 109.49],\n",
       " [42.17, 118.58],\n",
       " [39.48, 109.59],\n",
       " [43.38, 111.58],\n",
       " [50.13, 120.11],\n",
       " [40.27, 113.09],\n",
       " [50.48, 121.29],\n",
       " [49.12, 119.39],\n",
       " [45.32, 119.38],\n",
       " [41.02, 113.06],\n",
       " [40.46, 107.22],\n",
       " [49.35, 117.23],\n",
       " [43.37, 122.16],\n",
       " [46.03, 122.03],\n",
       " [39.4, 106.48],\n",
       " [43.57, 116.03],\n",
       " [49.17, 120.4],\n",
       " [48.0, 122.47],\n",
       " [38.27, 106.16],\n",
       " [37.56, 105.59],\n",
       " [39.02, 106.22],\n",
       " [37.59, 106.11],\n",
       " [36.38, 101.48],\n",
       " [37.22, 97.23],\n",
       " [36.26, 94.55],\n",
       " [36.4, 117.0],\n",
       " [36.25, 119.12],\n",
       " [37.22, 118.02],\n",
       " [39.52, 119.24],\n",
       " [37.26, 116.17],\n",
       " [37.27, 118.3],\n",
       " [36.14, 116.46],\n",
       " [36.22, 119.44],\n",
       " [35.14, 115.26],\n",
       " [35.53, 119.58],\n",
       " [36.17, 120.0],\n",
       " [36.22, 120.28],\n",
       " [35.23, 116.33],\n",
       " [36.12, 117.4],\n",
       " [36.52, 120.31],\n",
       " [36.58, 120.42],\n",
       " [37.1, 119.57],\n",
       " [37.44, 117.12],\n",
       " [36.26, 115.57],\n",
       " [36.51, 115.42],\n",
       " [35.03, 118.2],\n",
       " [37.39, 120.21],\n",
       " [37.48, 120.45],\n",
       " [36.47, 119.58],\n",
       " [36.03, 120.18],\n",
       " [36.42, 118.28],\n",
       " [35.36, 116.58],\n",
       " [35.23, 119.32],\n",
       " [37.1, 122.25],\n",
       " [36.54, 121.31],\n",
       " [36.53, 118.44],\n",
       " [36.11, 117.08],\n",
       " [35.06, 117.09],\n",
       " [36.43, 119.06],\n",
       " [37.31, 122.07],\n",
       " [37.12, 122.03],\n",
       " [35.54, 117.45],\n",
       " [37.32, 121.24],\n",
       " [35.32, 116.49],\n",
       " [36.56, 116.39],\n",
       " [34.52, 117.33],\n",
       " [36.43, 117.32],\n",
       " [37.21, 120.23],\n",
       " [35.59, 119.24],\n",
       " [36.48, 118.03],\n",
       " [35.24, 116.58],\n",
       " [37.54, 112.33],\n",
       " [36.11, 113.06],\n",
       " [40.06, 113.17],\n",
       " [35.48, 112.55],\n",
       " [37.54, 112.09],\n",
       " [35.35, 110.41],\n",
       " [35.37, 111.21],\n",
       " [36.34, 111.42],\n",
       " [37.02, 111.55],\n",
       " [35.3, 112.51],\n",
       " [36.05, 111.31],\n",
       " [36.21, 113.14],\n",
       " [39.19, 112.26],\n",
       " [37.08, 111.48],\n",
       " [38.24, 112.43],\n",
       " [37.51, 113.34],\n",
       " [34.52, 110.27],\n",
       " [38.43, 112.42],\n",
       " [37.41, 112.43],\n",
       " [35.02, 110.59],\n",
       " [34.17, 108.57],\n",
       " [32.41, 109.01],\n",
       " [34.22, 107.09],\n",
       " [35.28, 110.27],\n",
       " [33.04, 107.01],\n",
       " [34.34, 110.05],\n",
       " [33.52, 109.57],\n",
       " [35.06, 109.07],\n",
       " [34.3, 109.3],\n",
       " [34.2, 108.43],\n",
       " [34.18, 108.29],\n",
       " [36.35, 109.28],\n",
       " [38.18, 109.47],\n",
       " [31.14, 121.29],\n",
       " [30.4, 104.04],\n",
       " [31.51, 106.43],\n",
       " [30.39, 103.4],\n",
       " [31.14, 107.29],\n",
       " [31.09, 104.22],\n",
       " [31.01, 103.37],\n",
       " [29.36, 103.29],\n",
       " [29.42, 107.22],\n",
       " [30.58, 104.15],\n",
       " [32.28, 105.51],\n",
       " [30.26, 106.44],\n",
       " [30.24, 104.32],\n",
       " [31.48, 104.42],\n",
       " [31.36, 105.58],\n",
       " [29.36, 103.44],\n",
       " [28.54, 105.24],\n",
       " [31.3, 104.42],\n",
       " [30.49, 106.04],\n",
       " [29.36, 105.02],\n",
       " [26.34, 101.43],\n",
       " [30.59, 103.57],\n",
       " [30.26, 103.28],\n",
       " [30.31, 105.33],\n",
       " [30.5, 108.21],\n",
       " [32.03, 108.03],\n",
       " [27.54, 102.16],\n",
       " [29.59, 102.59],\n",
       " [28.47, 104.34],\n",
       " [29.23, 104.46],\n",
       " [30.09, 104.38],\n",
       " [25.03, 121.3],\n",
       " [39.02, 117.12],\n",
       " [29.39, 91.08],\n",
       " [29.16, 88.51],\n",
       " [21.23, 115.12],\n",
       " [43.45, 87.36],\n",
       " [41.09, 80.19],\n",
       " [47.5, 88.12],\n",
       " [39.42, 76.08],\n",
       " [44.57, 82.08],\n",
       " [44.02, 87.18],\n",
       " [44.09, 87.58],\n",
       " [42.5, 93.28],\n",
       " [37.09, 79.55],\n",
       " [45.36, 84.51],\n",
       " [39.3, 75.59],\n",
       " [41.46, 86.07],\n",
       " [44.27, 84.56],\n",
       " [44.18, 86.0],\n",
       " [46.46, 82.59],\n",
       " [42.54, 89.11],\n",
       " [43.55, 81.2],\n",
       " [25.04, 102.42],\n",
       " [25.08, 99.1],\n",
       " [25.01, 101.32],\n",
       " [25.34, 100.13],\n",
       " [26.06, 103.12],\n",
       " [23.21, 103.09],\n",
       " [22.01, 100.48],\n",
       " [23.43, 103.13],\n",
       " [25.3, 103.48],\n",
       " [24.0, 97.5],\n",
       " [22.48, 100.58],\n",
       " [24.06, 98.04],\n",
       " [26.13, 104.06],\n",
       " [24.22, 102.32],\n",
       " [27.2, 103.42],\n",
       " [30.16, 120.1],\n",
       " [30.11, 121.15],\n",
       " [29.16, 120.14],\n",
       " [29.39, 121.24],\n",
       " [30.03, 119.57],\n",
       " [30.32, 120.42],\n",
       " [30.52, 120.06],\n",
       " [29.29, 119.16],\n",
       " [28.45, 118.37],\n",
       " [30.46, 120.45],\n",
       " [29.07, 119.39],\n",
       " [29.12, 119.28],\n",
       " [28.51, 121.08],\n",
       " [28.27, 119.54],\n",
       " [28.04, 119.08],\n",
       " [29.52, 121.33],\n",
       " [30.42, 121.01],\n",
       " [28.58, 118.52],\n",
       " [27.48, 120.38],\n",
       " [30.01, 120.52],\n",
       " [30.0, 120.34],\n",
       " [28.41, 121.27],\n",
       " [30.38, 120.32],\n",
       " [28.22, 121.21],\n",
       " [28.01, 120.39],\n",
       " [30.09, 120.16],\n",
       " [29.18, 120.04],\n",
       " [28.08, 120.58],\n",
       " [30.26, 120.18],\n",
       " [30.02, 121.1],\n",
       " [29.54, 120.01],\n",
       " [30.01, 122.06],\n",
       " [29.43, 120.14],\n",
       " [29.35, 106.33],\n",
       " [30.02, 106.15],\n",
       " [29.18, 106.16],\n",
       " [29.1, 107.05],\n",
       " [29.23, 105.53]]"
      ]
     },
     "execution_count": 13,
     "metadata": {},
     "output_type": "execute_result"
    }
   ],
   "source": [
    "X"
   ]
  },
  {
   "cell_type": "code",
   "execution_count": 14,
   "metadata": {
    "collapsed": true
   },
   "outputs": [],
   "source": [
    "# 轉換成numpy array\n",
    "X = np.array(X)"
   ]
  },
  {
   "cell_type": "code",
   "execution_count": 15,
   "metadata": {
    "scrolled": true
   },
   "outputs": [
    {
     "data": {
      "text/plain": [
       "array([[  39.55,  116.24],\n",
       "       [  26.05,  119.18],\n",
       "       [  25.58,  119.31],\n",
       "       ..., \n",
       "       [  29.18,  106.16],\n",
       "       [  29.1 ,  107.05],\n",
       "       [  29.23,  105.53]])"
      ]
     },
     "execution_count": 15,
     "metadata": {},
     "output_type": "execute_result"
    }
   ],
   "source": [
    "X"
   ]
  },
  {
   "cell_type": "code",
   "execution_count": 16,
   "metadata": {
    "collapsed": true
   },
   "outputs": [],
   "source": [
    "# 類叢集的數量\n",
    "n_clusters = 5"
   ]
  },
  {
   "cell_type": "code",
   "execution_count": 17,
   "metadata": {
    "collapsed": true
   },
   "outputs": [],
   "source": [
    "# 把資料和對應的分類數放入類函數中進行聚類\n",
    "cls = KMeans(n_clusters).fit(X)"
   ]
  },
  {
   "cell_type": "code",
   "execution_count": 18,
   "metadata": {},
   "outputs": [
    {
     "data": {
      "text/plain": [
       "array([2, 3, 3, 3, 3, 3, 3, 3, 3, 3, 3, 3, 3, 3, 3, 3, 3, 3, 3, 3, 3, 3, 3,\n",
       "       1, 1, 4, 1, 1, 1, 1, 1, 1, 1, 1, 1, 1, 3, 3, 3, 3, 3, 3, 3, 3, 3, 3,\n",
       "       3, 3, 3, 3, 3, 3, 3, 3, 3, 3, 3, 3, 3, 3, 3, 3, 3, 3, 3, 3, 3, 3, 3,\n",
       "       3, 3, 3, 3, 3, 3, 3, 3, 3, 3, 3, 3, 3, 3, 3, 3, 3, 3, 3, 3, 3, 1, 3,\n",
       "       3, 3, 3, 3, 3, 3, 3, 3, 3, 3, 3, 1, 1, 1, 1, 1, 1, 1, 1, 3, 1, 1, 3,\n",
       "       3, 3, 3, 3, 3, 2, 2, 2, 2, 2, 2, 2, 2, 2, 2, 2, 2, 2, 2, 2, 2, 2, 2,\n",
       "       2, 2, 2, 2, 2, 2, 2, 2, 2, 2, 2, 2, 2, 2, 2, 2, 2, 2, 2, 2, 2, 2, 2,\n",
       "       2, 2, 2, 2, 2, 2, 2, 2, 2, 2, 2, 2, 2, 2, 2, 2, 2, 2, 2, 2, 2, 2, 2,\n",
       "       2, 2, 2, 2, 2, 0, 0, 0, 0, 0, 0, 0, 0, 0, 0, 0, 0, 0, 0, 0, 0, 0, 0,\n",
       "       0, 0, 0, 0, 0, 0, 0, 0, 0, 0, 0, 3, 2, 3, 1, 3, 1, 3, 2, 3, 3, 3, 3,\n",
       "       3, 2, 1, 2, 3, 3, 3, 1, 2, 3, 3, 2, 3, 3, 3, 3, 2, 3, 2, 3, 3, 3, 3,\n",
       "       3, 3, 3, 3, 3, 3, 3, 3, 3, 3, 3, 3, 3, 3, 3, 3, 3, 3, 3, 3, 3, 3, 3,\n",
       "       3, 3, 3, 3, 0, 0, 0, 0, 0, 0, 0, 0, 0, 0, 0, 0, 0, 0, 0, 0, 0, 0, 0,\n",
       "       0, 0, 0, 0, 0, 0, 0, 2, 2, 2, 2, 2, 2, 2, 2, 2, 2, 2, 2, 2, 2, 2, 2,\n",
       "       2, 2, 2, 2, 2, 2, 2, 2, 2, 2, 2, 2, 2, 2, 2, 2, 2, 2, 2, 2, 2, 2, 2,\n",
       "       3, 3, 3, 3, 3, 3, 3, 3, 3, 3, 3, 3, 3, 3, 3, 3, 3, 3, 3, 0, 0, 0, 0,\n",
       "       0, 2, 0, 0, 0, 0, 0, 0, 0, 0, 0, 0, 0, 0, 0, 0, 0, 0, 0, 0, 0, 0, 0,\n",
       "       0, 0, 2, 2, 0, 2, 2, 0, 2, 0, 0, 0, 2, 1, 0, 0, 0, 1, 2, 0, 0, 1, 1,\n",
       "       1, 1, 1, 1, 4, 2, 2, 2, 2, 2, 2, 2, 2, 2, 2, 2, 2, 2, 2, 2, 2, 2, 2,\n",
       "       2, 2, 2, 2, 2, 2, 2, 2, 2, 2, 2, 2, 2, 2, 2, 2, 2, 2, 2, 2, 2, 2, 2,\n",
       "       2, 2, 2, 2, 2, 2, 2, 2, 2, 2, 2, 2, 2, 2, 2, 2, 2, 2, 2, 2, 2, 2, 2,\n",
       "       2, 2, 1, 1, 1, 2, 1, 1, 1, 1, 1, 1, 1, 1, 2, 2, 1, 1, 1, 1, 1, 1, 1,\n",
       "       1, 1, 1, 1, 1, 1, 1, 1, 1, 1, 1, 1, 1, 1, 1, 1, 1, 1, 1, 1, 1, 1, 1,\n",
       "       3, 2, 4, 4, 3, 4, 4, 4, 4, 4, 4, 4, 4, 4, 4, 4, 4, 4, 4, 4, 4, 4, 1,\n",
       "       1, 1, 1, 1, 1, 1, 1, 1, 1, 1, 1, 1, 1, 1, 2, 2, 2, 2, 2, 2, 2, 2, 3,\n",
       "       2, 3, 3, 3, 3, 3, 2, 2, 3, 3, 2, 2, 3, 2, 3, 3, 2, 2, 3, 2, 2, 2, 2,\n",
       "       2, 1, 1, 1, 1, 1])"
      ]
     },
     "execution_count": 18,
     "metadata": {},
     "output_type": "execute_result"
    }
   ],
   "source": [
    "# X中每項所屬分類的一個類表\n",
    "cls.labels_"
   ]
  },
  {
   "cell_type": "code",
   "execution_count": 19,
   "metadata": {},
   "outputs": [
    {
     "data": {
      "image/png": "[encoded data removed]",
      "text/plain": [
       "<matplotlib.figure.Figure at 0x935d588>"
      ]
     },
     "metadata": {},
     "output_type": "display_data"
    }
   ],
   "source": [
    "# plot\n",
    "markers = [\"^\", \"x\", \"o\", \"*\", \"+\"]\n",
    "for i in range(n_clusters):\n",
    "    members = cls.labels_ == i\n",
    "    plt.scatter(X[members, 0], X[members, 1], s = 60, marker = markers[i], c = \"b\", alpha = 0.5)    \n",
    "\n",
    "plt.title(\"\")\n",
    "plt.show()"
   ]
  },
  {
   "cell_type": "markdown",
   "metadata": {},
   "source": [
    "## Agglomerative Clustering"
   ]
  },
  {
   "cell_type": "markdown",
   "metadata": {},
   "source": [
    "#### Ward"
   ]
  },
  {
   "cell_type": "code",
   "execution_count": 20,
   "metadata": {
    "collapsed": true
   },
   "outputs": [],
   "source": [
    "# coding = utf-8\n",
    "import numpy as np\n",
    "import matplotlib.pyplot as plt\n",
    "from sklearn.cluster import AgglomerativeClustering"
   ]
  },
  {
   "cell_type": "code",
   "execution_count": 21,
   "metadata": {
    "collapsed": true
   },
   "outputs": [],
   "source": [
    "# 讀取城市經緯度\n",
    "X = []\n",
    "f = open(\"city.txt\",encoding = \"utf-8\")\n",
    "for v in f:\n",
    "    X.append([float(v.split(\",\")[2]), float(v.split(\",\")[3])])"
   ]
  },
  {
   "cell_type": "code",
   "execution_count": 22,
   "metadata": {
    "collapsed": true
   },
   "outputs": [],
   "source": [
    "X = np.array(X)"
   ]
  },
  {
   "cell_type": "code",
   "execution_count": 23,
   "metadata": {
    "collapsed": true
   },
   "outputs": [],
   "source": [
    "n_clusters = 5"
   ]
  },
  {
   "cell_type": "code",
   "execution_count": 24,
   "metadata": {
    "collapsed": true
   },
   "outputs": [],
   "source": [
    "# 把資料和對應的分類數放入類函數中進行聚類，使用方差最小化 \"ward\"\n",
    "cls = AgglomerativeClustering(linkage = \"ward\", n_clusters = n_clusters).fit(X)"
   ]
  },
  {
   "cell_type": "code",
   "execution_count": 25,
   "metadata": {},
   "outputs": [
    {
     "data": {
      "text/plain": [
       "array([1, 0, 0, 0, 0, 1, 1, 0, 0, 0, 0, 1, 0, 0, 0, 1, 1, 0, 1, 0, 0, 0, 0,\n",
       "       4, 4, 2, 2, 4, 2, 4, 4, 4, 4, 4, 2, 4, 0, 0, 0, 0, 0, 0, 0, 0, 0, 0,\n",
       "       0, 0, 0, 0, 0, 0, 0, 0, 0, 0, 0, 0, 0, 0, 0, 0, 0, 0, 0, 0, 0, 0, 0,\n",
       "       0, 0, 0, 0, 0, 0, 0, 0, 0, 0, 0, 0, 0, 0, 0, 0, 0, 0, 0, 0, 0, 0, 0,\n",
       "       0, 0, 0, 0, 0, 0, 0, 0, 0, 0, 0, 0, 0, 0, 0, 0, 0, 0, 0, 0, 0, 0, 0,\n",
       "       0, 0, 0, 0, 0, 1, 1, 1, 1, 1, 1, 1, 1, 1, 1, 1, 4, 1, 1, 1, 1, 1, 1,\n",
       "       1, 1, 1, 1, 1, 4, 1, 1, 4, 4, 1, 1, 4, 1, 1, 4, 4, 4, 4, 0, 4, 4, 4,\n",
       "       4, 4, 4, 4, 4, 4, 4, 0, 4, 4, 4, 4, 4, 4, 4, 4, 4, 4, 4, 4, 4, 4, 4,\n",
       "       4, 4, 4, 4, 4, 3, 3, 3, 3, 3, 3, 3, 3, 3, 3, 3, 3, 3, 3, 3, 3, 3, 3,\n",
       "       3, 3, 3, 3, 3, 3, 3, 3, 3, 3, 3, 0, 0, 0, 0, 0, 0, 0, 0, 0, 0, 0, 0,\n",
       "       0, 0, 0, 0, 0, 0, 0, 0, 0, 0, 0, 0, 0, 0, 0, 0, 0, 0, 0, 0, 0, 0, 0,\n",
       "       0, 0, 0, 0, 0, 0, 0, 0, 0, 0, 0, 0, 0, 0, 0, 0, 0, 0, 0, 0, 0, 0, 0,\n",
       "       0, 0, 0, 0, 3, 3, 3, 3, 3, 3, 3, 3, 3, 3, 3, 3, 3, 3, 3, 3, 3, 3, 3,\n",
       "       3, 3, 3, 3, 3, 3, 3, 1, 1, 1, 1, 1, 1, 1, 1, 1, 1, 1, 1, 1, 1, 1, 1,\n",
       "       1, 1, 1, 1, 1, 1, 1, 1, 1, 1, 1, 1, 1, 1, 1, 1, 1, 1, 1, 1, 1, 1, 1,\n",
       "       0, 1, 0, 0, 0, 0, 1, 0, 0, 1, 0, 0, 0, 0, 0, 0, 0, 1, 0, 1, 1, 1, 1,\n",
       "       1, 1, 1, 1, 1, 1, 1, 1, 1, 1, 1, 1, 1, 1, 1, 1, 1, 1, 1, 1, 1, 1, 1,\n",
       "       1, 1, 4, 4, 1, 4, 4, 3, 4, 3, 3, 3, 4, 4, 3, 3, 3, 4, 4, 3, 3, 4, 4,\n",
       "       4, 4, 4, 2, 2, 1, 1, 1, 1, 1, 1, 1, 1, 4, 1, 1, 1, 1, 1, 1, 1, 1, 1,\n",
       "       1, 1, 1, 1, 1, 1, 1, 1, 1, 1, 1, 1, 1, 1, 1, 1, 1, 1, 1, 1, 1, 1, 1,\n",
       "       1, 1, 1, 1, 1, 4, 4, 4, 4, 4, 4, 4, 4, 4, 4, 4, 4, 4, 4, 4, 4, 4, 4,\n",
       "       4, 4, 4, 0, 4, 4, 4, 4, 4, 4, 4, 4, 4, 4, 4, 1, 0, 0, 0, 0, 0, 0, 0,\n",
       "       0, 0, 0, 0, 0, 0, 0, 0, 0, 0, 0, 0, 0, 0, 0, 0, 0, 0, 0, 0, 0, 0, 0,\n",
       "       0, 1, 2, 2, 0, 2, 2, 2, 2, 2, 2, 2, 2, 2, 2, 2, 2, 2, 2, 2, 2, 2, 0,\n",
       "       0, 0, 0, 0, 0, 0, 0, 0, 0, 0, 0, 0, 0, 0, 1, 1, 1, 1, 1, 1, 1, 1, 1,\n",
       "       1, 1, 1, 1, 1, 1, 1, 1, 1, 1, 1, 1, 1, 1, 1, 1, 1, 1, 1, 1, 1, 1, 1,\n",
       "       1, 0, 0, 0, 0, 0], dtype=int64)"
      ]
     },
     "execution_count": 25,
     "metadata": {},
     "output_type": "execute_result"
    }
   ],
   "source": [
    "# X中每項所屬分類的一個列表\n",
    "cls.labels_"
   ]
  },
  {
   "cell_type": "code",
   "execution_count": 26,
   "metadata": {},
   "outputs": [
    {
     "data": {
      "image/png": "[encoded data removed]",
      "text/plain": [
       "<matplotlib.figure.Figure at 0x9b1e7b8>"
      ]
     },
     "metadata": {},
     "output_type": "display_data"
    }
   ],
   "source": [
    "# plot\n",
    "markers = [\"^\", \"x\", \"o\", \"*\", \"+\"]\n",
    "for i in range(n_clusters):\n",
    "    members = cls.labels_ == i\n",
    "    plt.scatter(X[members, 0], X[members, 1], s = 60, marker = markers[i], c = \"b\", alpha = 0.5)    \n",
    "\n",
    "plt.title(\"\")\n",
    "plt.show()"
   ]
  },
  {
   "cell_type": "markdown",
   "metadata": {},
   "source": [
    "## DBSCAN"
   ]
  },
  {
   "cell_type": "code",
   "execution_count": 33,
   "metadata": {
    "collapsed": true
   },
   "outputs": [],
   "source": [
    "# coding = utf-8\n",
    "import numpy as np\n",
    "from sklearn.cluster import DBSCAN\n",
    "import matplotlib.pyplot as plt"
   ]
  },
  {
   "cell_type": "code",
   "execution_count": 34,
   "metadata": {
    "collapsed": true
   },
   "outputs": [],
   "source": [
    "# 國家面積人口\n",
    "X = [\n",
    "    [9670250, 1392358258], # 中國\n",
    "    [2980000, 1247923065], # 印度\n",
    "    [9629091, 317408015],  # 美國\n",
    "    [8514877, 201032714],  # 巴西\n",
    "    [377873, 127270000],   # 日本\n",
    "    [7692024, 23540517],   # 澳大利亞\n",
    "    [9984670, 34591000],   # 加拿大\n",
    "    [17075400, 143551289], # 俄羅斯\n",
    "    [513115, 67041000],    # 泰國\n",
    "    [181035, 14805358],    # 柬埔寨\n",
    "    [99600, 50400000],     # 韓國\n",
    "    [120538, 24052231]     # 朝鮮\n",
    "]"
   ]
  },
  {
   "cell_type": "code",
   "execution_count": 35,
   "metadata": {
    "collapsed": true
   },
   "outputs": [],
   "source": [
    "X = np.array(X)"
   ]
  },
  {
   "cell_type": "code",
   "execution_count": 36,
   "metadata": {
    "collapsed": true
   },
   "outputs": [],
   "source": [
    "# 常態化\n",
    "a = X[:, :1] / 17075400.0 * 10000\n",
    "b = X[:, 1:] / 1392358258.0 * 10000\n",
    "X = np.concatenate((a, b), axis = 1)"
   ]
  },
  {
   "cell_type": "code",
   "execution_count": 37,
   "metadata": {
    "collapsed": true
   },
   "outputs": [],
   "source": [
    "# 把訓練資料和對應的分類放入分類器中進行訓練，沒有出現噪點是因為 min_samples = 1\n",
    "cls = DBSCAN(eps = 2000, min_samples = 1).fit(X)"
   ]
  },
  {
   "cell_type": "code",
   "execution_count": 38,
   "metadata": {
    "collapsed": true
   },
   "outputs": [],
   "source": [
    "# 類叢集的數量\n",
    "n_clusters = len(set(cls.labels_))"
   ]
  },
  {
   "cell_type": "code",
   "execution_count": 39,
   "metadata": {},
   "outputs": [
    {
     "data": {
      "text/plain": [
       "array([0, 1, 2, 2, 3, 2, 2, 4, 3, 3, 3, 3], dtype=int64)"
      ]
     },
     "execution_count": 39,
     "metadata": {},
     "output_type": "execute_result"
    }
   ],
   "source": [
    "# X中每項所屬分類的一個列表\n",
    "cls.labels_"
   ]
  },
  {
   "cell_type": "code",
   "execution_count": 40,
   "metadata": {},
   "outputs": [
    {
     "data": {
      "image/png": "[encoded data removed]",
      "text/plain": [
       "<matplotlib.figure.Figure at 0x9c36ac8>"
      ]
     },
     "metadata": {},
     "output_type": "display_data"
    }
   ],
   "source": [
    "# plot\n",
    "markers = [\"^\", \"x\", \"o\", \"*\", \"+\"]\n",
    "for i in range(n_clusters):\n",
    "    my_members = cls.labels_ == i\n",
    "    plt.scatter(X[my_members, 0], X[my_members, 1], s = 60, marker = markers[i], c = \"b\", alpha = 0.5)    \n",
    "\n",
    "plt.title(\"dbscan\")\n",
    "plt.show()"
   ]
  },
  {
   "cell_type": "markdown",
   "metadata": {},
   "source": [
    "## Hopkins Statistic"
   ]
  },
  {
   "cell_type": "code",
   "execution_count": 64,
   "metadata": {
    "collapsed": true
   },
   "outputs": [],
   "source": [
    "# coding = utf-8\n",
    "import numpy as np\n",
    "from sklearn.cluster import KMeans"
   ]
  },
  {
   "cell_type": "code",
   "execution_count": 65,
   "metadata": {
    "collapsed": true
   },
   "outputs": [],
   "source": [
    "X = [\n",
    "    [9670250, 1392358258], ##中國\n",
    "    [2980000, 1247923065], ##印度\n",
    "    [9629091, 317408015],  ##美國\n",
    "    [8514877, 201032714],  ##巴西\n",
    "    [377873, 127270000],   ##日本\n",
    "    [7692024, 23540517],   ##澳大利亞\n",
    "    [9984670, 34591000],   ##加拿大\n",
    "    [17075400, 143551289], ##俄羅斯\n",
    "    [513115, 67041000],    ##泰國\n",
    "    [181035, 14805358],    ##柬埔寨\n",
    "    [99600, 50400000],     ##韓國\n",
    "    [120538, 24052231]     ##朝鮮\n",
    "]"
   ]
  },
  {
   "cell_type": "code",
   "execution_count": 66,
   "metadata": {
    "collapsed": true
   },
   "outputs": [],
   "source": [
    "X = np.array(X)"
   ]
  },
  {
   "cell_type": "code",
   "execution_count": 67,
   "metadata": {
    "collapsed": true
   },
   "outputs": [],
   "source": [
    "# 做常態化\n",
    "a = X[:, :1] / 17075400.0 * 10000\n",
    "b = X[:, 1:] / 1392358258.0 * 10000\n",
    "X = np.concatenate((a, b), axis = 1)"
   ]
  },
  {
   "cell_type": "code",
   "execution_count": 68,
   "metadata": {
    "collapsed": true
   },
   "outputs": [],
   "source": [
    "pn = X[np.random.choice(X.shape[0], 3, replace = False), :]\n",
    "# 隨機挑出3個\n",
    "# [[  4986.63398808,  1443.82893444],\n",
    "#  [ 10000.        ,  1030.99391392],\n",
    "#  [   300.49954906,   481.49245796]]"
   ]
  },
  {
   "cell_type": "code",
   "execution_count": 69,
   "metadata": {
    "scrolled": false
   },
   "outputs": [
    {
     "data": {
      "text/plain": [
       "array([[ 5847.40035373,   248.43462378],\n",
       "       [ 4504.7401525 ,   169.06939622],\n",
       "       [ 5639.15984399,  2279.64328273]])"
      ]
     },
     "execution_count": 69,
     "metadata": {},
     "output_type": "execute_result"
    }
   ],
   "source": [
    "pn"
   ]
  },
  {
   "cell_type": "code",
   "execution_count": 70,
   "metadata": {
    "collapsed": true
   },
   "outputs": [],
   "source": [
    "xn = []\n",
    "for i in pn:\n",
    "    distance_min = 1000000\n",
    "    for j in X:\n",
    "        if np.array_equal(j, i):\n",
    "            continue\n",
    "        distance = np.linalg.norm(j - i)\n",
    "        if distance_min > distance:\n",
    "            distance_min = distance\n",
    "    xn.append(distance_min)"
   ]
  },
  {
   "cell_type": "code",
   "execution_count": 71,
   "metadata": {
    "collapsed": true
   },
   "outputs": [],
   "source": [
    "qn = X[np.random.choice(X.shape[0], 3, replace = False), :]\n",
    "# 隨機挑出3個\n",
    "# [[ 4986.63398808,  1443.82893444],\n",
    "#  [ 4504.7401525 ,   169.06939622],\n",
    "#  [ 1745.20069808,  8962.65783486]]"
   ]
  },
  {
   "cell_type": "code",
   "execution_count": 72,
   "metadata": {},
   "outputs": [
    {
     "data": {
      "text/plain": [
       "array([[   106.02094241,    106.33296362],\n",
       "       [ 10000.        ,   1030.99391392],\n",
       "       [  1745.20069808,   8962.65783486]])"
      ]
     },
     "execution_count": 72,
     "metadata": {},
     "output_type": "execute_result"
    }
   ],
   "source": [
    "qn"
   ]
  },
  {
   "cell_type": "code",
   "execution_count": 73,
   "metadata": {
    "collapsed": true
   },
   "outputs": [],
   "source": [
    "yn = []\n",
    "for i in qn:\n",
    "    distance_min = 1000000\n",
    "    for j in X:\n",
    "        if np.array_equal(j, i):\n",
    "            continue\n",
    "        distance = np.linalg.norm(j - i)\n",
    "        if distance_min > distance:\n",
    "            distance_min = distance\n",
    "    yn.append(distance_min)"
   ]
  },
  {
   "cell_type": "code",
   "execution_count": 74,
   "metadata": {},
   "outputs": [
    {
     "name": "stdout",
     "output_type": "stream",
     "text": [
      "0.690164405565\n"
     ]
    }
   ],
   "source": [
    "H = float(np.sum(yn)) / (np.sum(xn) + np.sum(yn))\n",
    "print(H)\n",
    "# 0.537550924428"
   ]
  },
  {
   "cell_type": "markdown",
   "metadata": {},
   "source": [
    "## K-Means Clustering"
   ]
  },
  {
   "cell_type": "markdown",
   "metadata": {},
   "source": [
    "m = 1 時所計算 Elbow Method 的數值\n",
    "\n",
    "如果想計算 m 為其他值時，修改 n_clusters = 1"
   ]
  },
  {
   "cell_type": "code",
   "execution_count": 76,
   "metadata": {
    "collapsed": true
   },
   "outputs": [],
   "source": [
    "# coding = utf-8\n",
    "# [面積(km^2), 人口]\n",
    "X = [\n",
    "    [9670250, 1392358258], # 中國\n",
    "    [2980000, 1247923065], # 印度\n",
    "    [9629091, 317408015],  # 美國\n",
    "    [8514877, 201032714],  # 巴西\n",
    "    [377873, 127270000],   # 日本\n",
    "    [7692024, 23540517],   # 澳大利亞\n",
    "    [9984670, 34591000],   # 加拿大\n",
    "    [17075400, 143551289], # 俄羅斯\n",
    "    [513115, 67041000],    # 泰國\n",
    "    [181035, 14805358],    # 柬埔寨\n",
    "    [99600, 50400000],     # 韓國\n",
    "    [120538, 24052231]     # 朝鮮\n",
    "]"
   ]
  },
  {
   "cell_type": "code",
   "execution_count": 77,
   "metadata": {
    "collapsed": true
   },
   "outputs": [],
   "source": [
    "X = np.array(X)"
   ]
  },
  {
   "cell_type": "code",
   "execution_count": 78,
   "metadata": {
    "collapsed": true
   },
   "outputs": [],
   "source": [
    "# 常態化\n",
    "a = X[:, :1] / 17075400.0 * 10000\n",
    "b = X[:, 1:] / 1392358258.0 * 10000\n",
    "X = np.concatenate((a, b), axis = 1)"
   ]
  },
  {
   "cell_type": "code",
   "execution_count": 79,
   "metadata": {
    "collapsed": true
   },
   "outputs": [],
   "source": [
    "n_clusters = 1"
   ]
  },
  {
   "cell_type": "code",
   "execution_count": 80,
   "metadata": {
    "collapsed": true
   },
   "outputs": [],
   "source": [
    "cls = KMeans(n_clusters).fit(X)"
   ]
  },
  {
   "cell_type": "code",
   "execution_count": 81,
   "metadata": {},
   "outputs": [
    {
     "data": {
      "text/plain": [
       "array([[ 3261.92812467,  2180.93620785]])"
      ]
     },
     "execution_count": 81,
     "metadata": {},
     "output_type": "execute_result"
    }
   ],
   "source": [
    "# 每個叢集的中心點\n",
    "cls.cluster_centers_"
   ]
  },
  {
   "cell_type": "code",
   "execution_count": 82,
   "metadata": {},
   "outputs": [
    {
     "data": {
      "text/plain": [
       "array([0, 0, 0, 0, 0, 0, 0, 0, 0, 0, 0, 0])"
      ]
     },
     "execution_count": 82,
     "metadata": {},
     "output_type": "execute_result"
    }
   ],
   "source": [
    "# X中每個點所屬的叢集\n",
    "cls.labels_"
   ]
  },
  {
   "cell_type": "code",
   "execution_count": 83,
   "metadata": {
    "collapsed": true
   },
   "outputs": [],
   "source": [
    "# 曼哈頓距離\n",
    "def manhattan_distance(x, y):\n",
    "    return np.sum(abs(x-y))"
   ]
  },
  {
   "cell_type": "code",
   "execution_count": 84,
   "metadata": {
    "collapsed": true
   },
   "outputs": [],
   "source": [
    "distance_sum = 0"
   ]
  },
  {
   "cell_type": "code",
   "execution_count": 85,
   "metadata": {
    "collapsed": true
   },
   "outputs": [],
   "source": [
    "for i in range(n_clusters):\n",
    "    group = cls.labels_ == i\n",
    "    members = X[group, :]\n",
    "    for v in members:\n",
    "        distance_sum += manhattan_distance(np.array(v), cls.cluster_centers_)"
   ]
  },
  {
   "cell_type": "code",
   "execution_count": 86,
   "metadata": {},
   "outputs": [
    {
     "name": "stdout",
     "output_type": "stream",
     "text": [
      "63538.2443905\n"
     ]
    }
   ],
   "source": [
    "print(distance_sum)\n",
    "# 63538.2443905"
   ]
  },
  {
   "cell_type": "markdown",
   "metadata": {},
   "source": [
    "## 評估分群品質"
   ]
  },
  {
   "cell_type": "code",
   "execution_count": 139,
   "metadata": {
    "collapsed": true
   },
   "outputs": [],
   "source": [
    "# coding = utf-8\n",
    "# encoding = utf-8\n",
    "import numpy as np\n",
    "from sklearn.cluster import KMeans"
   ]
  },
  {
   "cell_type": "code",
   "execution_count": 140,
   "metadata": {
    "collapsed": true
   },
   "outputs": [],
   "source": [
    "# [面積(km^2), 人口]\n",
    "X = [\n",
    "    [9670250, 1392358258], # 中國\n",
    "    [2980000, 1247923065], # 印度\n",
    "    [9629091, 317408015],  # 美國\n",
    "    [8514877, 201032714],  # 巴西\n",
    "    [377873, 127270000],   # 日本\n",
    "    [7692024, 23540517],   # 澳大利亞\n",
    "    [9984670, 34591000],   # 加拿大\n",
    "    [17075400, 143551289], # 俄羅斯\n",
    "    [513115, 67041000],    # 泰國\n",
    "    [181035, 14805358],    # 柬埔寨\n",
    "    [99600, 50400000],     # 韓國\n",
    "    [120538, 24052231]     # 朝鮮\n",
    "]"
   ]
  },
  {
   "cell_type": "code",
   "execution_count": 141,
   "metadata": {
    "collapsed": true
   },
   "outputs": [],
   "source": [
    "X = np.array(X)"
   ]
  },
  {
   "cell_type": "code",
   "execution_count": 142,
   "metadata": {
    "collapsed": true
   },
   "outputs": [],
   "source": [
    "a = X[:, :1] / 17075400.0 * 10000\n",
    "b = X[:, 1:] / 1392358258.0 * 10000\n",
    "X = np.concatenate((a, b), axis = 1)"
   ]
  },
  {
   "cell_type": "code",
   "execution_count": 143,
   "metadata": {
    "collapsed": true
   },
   "outputs": [],
   "source": [
    "n_clusters = 3"
   ]
  },
  {
   "cell_type": "code",
   "execution_count": 144,
   "metadata": {
    "collapsed": true
   },
   "outputs": [],
   "source": [
    "cls = KMeans(n_clusters).fit(X)"
   ]
  },
  {
   "cell_type": "code",
   "execution_count": 145,
   "metadata": {},
   "outputs": [
    {
     "data": {
      "text/plain": [
       "array([[ 6195.58686766,  1034.39403022],\n",
       "       [ 3704.23240451,  9481.32891743],\n",
       "       [  151.34766975,   407.32130164]])"
      ]
     },
     "execution_count": 145,
     "metadata": {},
     "output_type": "execute_result"
    }
   ],
   "source": [
    "cls.cluster_centers_"
   ]
  },
  {
   "cell_type": "code",
   "execution_count": 146,
   "metadata": {},
   "outputs": [
    {
     "data": {
      "text/plain": [
       "array([1, 1, 0, 0, 2, 0, 0, 0, 2, 2, 2, 2])"
      ]
     },
     "execution_count": 146,
     "metadata": {},
     "output_type": "execute_result"
    }
   ],
   "source": [
    "cls.labels_"
   ]
  },
  {
   "cell_type": "code",
   "execution_count": 147,
   "metadata": {
    "collapsed": true
   },
   "outputs": [],
   "source": [
    "# 曼哈頓距離\n",
    "def manhttan_distance(x, y):\n",
    "    return np.sum(abs(x-y))"
   ]
  },
  {
   "cell_type": "code",
   "execution_count": 148,
   "metadata": {
    "collapsed": true
   },
   "outputs": [],
   "source": [
    "# a(v), X[0] 到其他點的平均距離\n",
    "distance_sum = 0\n",
    "for v in X[1:]:\n",
    "    distance_sum += manhattan_distance(np.array(X[0]), np.array(v))\n",
    "av = distance_sum / len(X[1:])"
   ]
  },
  {
   "cell_type": "code",
   "execution_count": 149,
   "metadata": {},
   "outputs": [
    {
     "name": "stdout",
     "output_type": "stream",
     "text": [
      "11971.5037823\n"
     ]
    }
   ],
   "source": [
    "print(av)\n",
    "# 11971.5037823"
   ]
  },
  {
   "cell_type": "code",
   "execution_count": 150,
   "metadata": {},
   "outputs": [
    {
     "name": "stdout",
     "output_type": "stream",
     "text": [
      "43895.5138683\n"
     ]
    }
   ],
   "source": [
    "# b(v), X[0]\n",
    "distance_min = 10000\n",
    "for i in range(n_clusters):\n",
    "    group = cls.labels_ == i\n",
    "    members = X[group, :]\n",
    "    for v in members:\n",
    "        if np.array_equal(v, X[0]):\n",
    "            continue\n",
    "        distance = manhattan_distance(np.array(v), cls.cluster_centers_)\n",
    "        if distance_min > distance:\n",
    "            distance_min = distance\n",
    "bv = distance_sum / n_clusters\n",
    "print(bv)\n",
    "# 43895.5138683"
   ]
  },
  {
   "cell_type": "code",
   "execution_count": 151,
   "metadata": {},
   "outputs": [
    {
     "name": "stdout",
     "output_type": "stream",
     "text": [
      "0.727272727273\n"
     ]
    }
   ],
   "source": [
    "sv = float(bv - av) / max(av, bv)\n",
    "print(sv)\n",
    "# 更改 n_clusters = 3 查看輪廓係數(Silhouette Coefficient)\n",
    "# 0.818181818182 (n_clusters = 2)\n",
    "# 0.727272727273 (n_clusters = 3)\n",
    "# 0.545454545455 (n_clusters = 5)\n",
    "# 0.363636363636 (n_clusters = 7)"
   ]
  },
  {
   "cell_type": "code",
   "execution_count": null,
   "metadata": {
    "collapsed": true
   },
   "outputs": [],
   "source": []
  }
 ],
 "metadata": {
  "kernelspec": {
   "display_name": "Python 3",
   "language": "python",
   "name": "python3"
  },
  "language_info": {
   "codemirror_mode": {
    "name": "ipython",
    "version": 3
   },
   "file_extension": ".py",
   "mimetype": "text/x-python",
   "name": "python",
   "nbconvert_exporter": "python",
   "pygments_lexer": "ipython3",
   "version": "3.6.1"
  }
 },
 "nbformat": 4,
 "nbformat_minor": 2
}
