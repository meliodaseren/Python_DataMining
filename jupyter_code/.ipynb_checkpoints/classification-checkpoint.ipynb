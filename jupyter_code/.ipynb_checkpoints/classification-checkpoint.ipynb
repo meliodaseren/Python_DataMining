{
 "cells": [
  {
   "cell_type": "markdown",
   "metadata": {},
   "source": [
    "# input iris dataset"
   ]
  },
  {
   "cell_type": "markdown",
   "metadata": {},
   "source": [
    "1. [SciPy](http://www.scipy.org/)\n",
    "\n",
    "(發音為 “Sigh Pie”) 是一套為數學，科學，以及工程而特別開發的開放原始碼 (open source)的軟體。\n",
    "\n",
    "2. [NumPy](http://www.numpy.org/)\n",
    "\n",
    "對於科學計算使用者，NumPy特別加強了多維陣列(muli-dimensional arrays)的運算效能。\n",
    "\n",
    "(3) [matplotlib](http://matplotlib.org/)\n",
    "\n",
    "matplotlib 是一套Python語言的畫圖資料庫，對於有使用過Matlab經驗的讀者，對於介面會相當熟悉。"
   ]
  },
  {
   "cell_type": "code",
   "execution_count": 1,
   "metadata": {},
   "outputs": [
    {
     "data": {
      "text/html": [
       "<div>\n",
       "<table border=\"1\" class=\"dataframe\">\n",
       "  <thead>\n",
       "    <tr style=\"text-align: right;\">\n",
       "      <th></th>\n",
       "      <th>0</th>\n",
       "      <th>1</th>\n",
       "      <th>2</th>\n",
       "      <th>3</th>\n",
       "      <th>4</th>\n",
       "    </tr>\n",
       "  </thead>\n",
       "  <tbody>\n",
       "    <tr>\n",
       "      <th>0</th>\n",
       "      <td>5.1</td>\n",
       "      <td>3.5</td>\n",
       "      <td>1.4</td>\n",
       "      <td>0.2</td>\n",
       "      <td>Iris-setosa</td>\n",
       "    </tr>\n",
       "    <tr>\n",
       "      <th>1</th>\n",
       "      <td>4.9</td>\n",
       "      <td>3.0</td>\n",
       "      <td>1.4</td>\n",
       "      <td>0.2</td>\n",
       "      <td>Iris-setosa</td>\n",
       "    </tr>\n",
       "    <tr>\n",
       "      <th>2</th>\n",
       "      <td>4.7</td>\n",
       "      <td>3.2</td>\n",
       "      <td>1.3</td>\n",
       "      <td>0.2</td>\n",
       "      <td>Iris-setosa</td>\n",
       "    </tr>\n",
       "    <tr>\n",
       "      <th>3</th>\n",
       "      <td>4.6</td>\n",
       "      <td>3.1</td>\n",
       "      <td>1.5</td>\n",
       "      <td>0.2</td>\n",
       "      <td>Iris-setosa</td>\n",
       "    </tr>\n",
       "    <tr>\n",
       "      <th>4</th>\n",
       "      <td>5.0</td>\n",
       "      <td>3.6</td>\n",
       "      <td>1.4</td>\n",
       "      <td>0.2</td>\n",
       "      <td>Iris-setosa</td>\n",
       "    </tr>\n",
       "    <tr>\n",
       "      <th>5</th>\n",
       "      <td>5.4</td>\n",
       "      <td>3.9</td>\n",
       "      <td>1.7</td>\n",
       "      <td>0.4</td>\n",
       "      <td>Iris-setosa</td>\n",
       "    </tr>\n",
       "    <tr>\n",
       "      <th>6</th>\n",
       "      <td>4.6</td>\n",
       "      <td>3.4</td>\n",
       "      <td>1.4</td>\n",
       "      <td>0.3</td>\n",
       "      <td>Iris-setosa</td>\n",
       "    </tr>\n",
       "    <tr>\n",
       "      <th>7</th>\n",
       "      <td>5.0</td>\n",
       "      <td>3.4</td>\n",
       "      <td>1.5</td>\n",
       "      <td>0.2</td>\n",
       "      <td>Iris-setosa</td>\n",
       "    </tr>\n",
       "    <tr>\n",
       "      <th>8</th>\n",
       "      <td>4.4</td>\n",
       "      <td>2.9</td>\n",
       "      <td>1.4</td>\n",
       "      <td>0.2</td>\n",
       "      <td>Iris-setosa</td>\n",
       "    </tr>\n",
       "    <tr>\n",
       "      <th>9</th>\n",
       "      <td>4.9</td>\n",
       "      <td>3.1</td>\n",
       "      <td>1.5</td>\n",
       "      <td>0.1</td>\n",
       "      <td>Iris-setosa</td>\n",
       "    </tr>\n",
       "    <tr>\n",
       "      <th>10</th>\n",
       "      <td>5.4</td>\n",
       "      <td>3.7</td>\n",
       "      <td>1.5</td>\n",
       "      <td>0.2</td>\n",
       "      <td>Iris-setosa</td>\n",
       "    </tr>\n",
       "    <tr>\n",
       "      <th>11</th>\n",
       "      <td>4.8</td>\n",
       "      <td>3.4</td>\n",
       "      <td>1.6</td>\n",
       "      <td>0.2</td>\n",
       "      <td>Iris-setosa</td>\n",
       "    </tr>\n",
       "    <tr>\n",
       "      <th>12</th>\n",
       "      <td>4.8</td>\n",
       "      <td>3.0</td>\n",
       "      <td>1.4</td>\n",
       "      <td>0.1</td>\n",
       "      <td>Iris-setosa</td>\n",
       "    </tr>\n",
       "    <tr>\n",
       "      <th>13</th>\n",
       "      <td>4.3</td>\n",
       "      <td>3.0</td>\n",
       "      <td>1.1</td>\n",
       "      <td>0.1</td>\n",
       "      <td>Iris-setosa</td>\n",
       "    </tr>\n",
       "    <tr>\n",
       "      <th>14</th>\n",
       "      <td>5.8</td>\n",
       "      <td>4.0</td>\n",
       "      <td>1.2</td>\n",
       "      <td>0.2</td>\n",
       "      <td>Iris-setosa</td>\n",
       "    </tr>\n",
       "    <tr>\n",
       "      <th>15</th>\n",
       "      <td>5.7</td>\n",
       "      <td>4.4</td>\n",
       "      <td>1.5</td>\n",
       "      <td>0.4</td>\n",
       "      <td>Iris-setosa</td>\n",
       "    </tr>\n",
       "    <tr>\n",
       "      <th>16</th>\n",
       "      <td>5.4</td>\n",
       "      <td>3.9</td>\n",
       "      <td>1.3</td>\n",
       "      <td>0.4</td>\n",
       "      <td>Iris-setosa</td>\n",
       "    </tr>\n",
       "    <tr>\n",
       "      <th>17</th>\n",
       "      <td>5.1</td>\n",
       "      <td>3.5</td>\n",
       "      <td>1.4</td>\n",
       "      <td>0.3</td>\n",
       "      <td>Iris-setosa</td>\n",
       "    </tr>\n",
       "    <tr>\n",
       "      <th>18</th>\n",
       "      <td>5.7</td>\n",
       "      <td>3.8</td>\n",
       "      <td>1.7</td>\n",
       "      <td>0.3</td>\n",
       "      <td>Iris-setosa</td>\n",
       "    </tr>\n",
       "    <tr>\n",
       "      <th>19</th>\n",
       "      <td>5.1</td>\n",
       "      <td>3.8</td>\n",
       "      <td>1.5</td>\n",
       "      <td>0.3</td>\n",
       "      <td>Iris-setosa</td>\n",
       "    </tr>\n",
       "    <tr>\n",
       "      <th>20</th>\n",
       "      <td>5.4</td>\n",
       "      <td>3.4</td>\n",
       "      <td>1.7</td>\n",
       "      <td>0.2</td>\n",
       "      <td>Iris-setosa</td>\n",
       "    </tr>\n",
       "    <tr>\n",
       "      <th>21</th>\n",
       "      <td>5.1</td>\n",
       "      <td>3.7</td>\n",
       "      <td>1.5</td>\n",
       "      <td>0.4</td>\n",
       "      <td>Iris-setosa</td>\n",
       "    </tr>\n",
       "    <tr>\n",
       "      <th>22</th>\n",
       "      <td>4.6</td>\n",
       "      <td>3.6</td>\n",
       "      <td>1.0</td>\n",
       "      <td>0.2</td>\n",
       "      <td>Iris-setosa</td>\n",
       "    </tr>\n",
       "    <tr>\n",
       "      <th>23</th>\n",
       "      <td>5.1</td>\n",
       "      <td>3.3</td>\n",
       "      <td>1.7</td>\n",
       "      <td>0.5</td>\n",
       "      <td>Iris-setosa</td>\n",
       "    </tr>\n",
       "    <tr>\n",
       "      <th>24</th>\n",
       "      <td>4.8</td>\n",
       "      <td>3.4</td>\n",
       "      <td>1.9</td>\n",
       "      <td>0.2</td>\n",
       "      <td>Iris-setosa</td>\n",
       "    </tr>\n",
       "    <tr>\n",
       "      <th>25</th>\n",
       "      <td>5.0</td>\n",
       "      <td>3.0</td>\n",
       "      <td>1.6</td>\n",
       "      <td>0.2</td>\n",
       "      <td>Iris-setosa</td>\n",
       "    </tr>\n",
       "    <tr>\n",
       "      <th>26</th>\n",
       "      <td>5.0</td>\n",
       "      <td>3.4</td>\n",
       "      <td>1.6</td>\n",
       "      <td>0.4</td>\n",
       "      <td>Iris-setosa</td>\n",
       "    </tr>\n",
       "    <tr>\n",
       "      <th>27</th>\n",
       "      <td>5.2</td>\n",
       "      <td>3.5</td>\n",
       "      <td>1.5</td>\n",
       "      <td>0.2</td>\n",
       "      <td>Iris-setosa</td>\n",
       "    </tr>\n",
       "    <tr>\n",
       "      <th>28</th>\n",
       "      <td>5.2</td>\n",
       "      <td>3.4</td>\n",
       "      <td>1.4</td>\n",
       "      <td>0.2</td>\n",
       "      <td>Iris-setosa</td>\n",
       "    </tr>\n",
       "    <tr>\n",
       "      <th>29</th>\n",
       "      <td>4.7</td>\n",
       "      <td>3.2</td>\n",
       "      <td>1.6</td>\n",
       "      <td>0.2</td>\n",
       "      <td>Iris-setosa</td>\n",
       "    </tr>\n",
       "    <tr>\n",
       "      <th>...</th>\n",
       "      <td>...</td>\n",
       "      <td>...</td>\n",
       "      <td>...</td>\n",
       "      <td>...</td>\n",
       "      <td>...</td>\n",
       "    </tr>\n",
       "    <tr>\n",
       "      <th>120</th>\n",
       "      <td>6.9</td>\n",
       "      <td>3.2</td>\n",
       "      <td>5.7</td>\n",
       "      <td>2.3</td>\n",
       "      <td>Iris-virginica</td>\n",
       "    </tr>\n",
       "    <tr>\n",
       "      <th>121</th>\n",
       "      <td>5.6</td>\n",
       "      <td>2.8</td>\n",
       "      <td>4.9</td>\n",
       "      <td>2.0</td>\n",
       "      <td>Iris-virginica</td>\n",
       "    </tr>\n",
       "    <tr>\n",
       "      <th>122</th>\n",
       "      <td>7.7</td>\n",
       "      <td>2.8</td>\n",
       "      <td>6.7</td>\n",
       "      <td>2.0</td>\n",
       "      <td>Iris-virginica</td>\n",
       "    </tr>\n",
       "    <tr>\n",
       "      <th>123</th>\n",
       "      <td>6.3</td>\n",
       "      <td>2.7</td>\n",
       "      <td>4.9</td>\n",
       "      <td>1.8</td>\n",
       "      <td>Iris-virginica</td>\n",
       "    </tr>\n",
       "    <tr>\n",
       "      <th>124</th>\n",
       "      <td>6.7</td>\n",
       "      <td>3.3</td>\n",
       "      <td>5.7</td>\n",
       "      <td>2.1</td>\n",
       "      <td>Iris-virginica</td>\n",
       "    </tr>\n",
       "    <tr>\n",
       "      <th>125</th>\n",
       "      <td>7.2</td>\n",
       "      <td>3.2</td>\n",
       "      <td>6.0</td>\n",
       "      <td>1.8</td>\n",
       "      <td>Iris-virginica</td>\n",
       "    </tr>\n",
       "    <tr>\n",
       "      <th>126</th>\n",
       "      <td>6.2</td>\n",
       "      <td>2.8</td>\n",
       "      <td>4.8</td>\n",
       "      <td>1.8</td>\n",
       "      <td>Iris-virginica</td>\n",
       "    </tr>\n",
       "    <tr>\n",
       "      <th>127</th>\n",
       "      <td>6.1</td>\n",
       "      <td>3.0</td>\n",
       "      <td>4.9</td>\n",
       "      <td>1.8</td>\n",
       "      <td>Iris-virginica</td>\n",
       "    </tr>\n",
       "    <tr>\n",
       "      <th>128</th>\n",
       "      <td>6.4</td>\n",
       "      <td>2.8</td>\n",
       "      <td>5.6</td>\n",
       "      <td>2.1</td>\n",
       "      <td>Iris-virginica</td>\n",
       "    </tr>\n",
       "    <tr>\n",
       "      <th>129</th>\n",
       "      <td>7.2</td>\n",
       "      <td>3.0</td>\n",
       "      <td>5.8</td>\n",
       "      <td>1.6</td>\n",
       "      <td>Iris-virginica</td>\n",
       "    </tr>\n",
       "    <tr>\n",
       "      <th>130</th>\n",
       "      <td>7.4</td>\n",
       "      <td>2.8</td>\n",
       "      <td>6.1</td>\n",
       "      <td>1.9</td>\n",
       "      <td>Iris-virginica</td>\n",
       "    </tr>\n",
       "    <tr>\n",
       "      <th>131</th>\n",
       "      <td>7.9</td>\n",
       "      <td>3.8</td>\n",
       "      <td>6.4</td>\n",
       "      <td>2.0</td>\n",
       "      <td>Iris-virginica</td>\n",
       "    </tr>\n",
       "    <tr>\n",
       "      <th>132</th>\n",
       "      <td>6.4</td>\n",
       "      <td>2.8</td>\n",
       "      <td>5.6</td>\n",
       "      <td>2.2</td>\n",
       "      <td>Iris-virginica</td>\n",
       "    </tr>\n",
       "    <tr>\n",
       "      <th>133</th>\n",
       "      <td>6.3</td>\n",
       "      <td>2.8</td>\n",
       "      <td>5.1</td>\n",
       "      <td>1.5</td>\n",
       "      <td>Iris-virginica</td>\n",
       "    </tr>\n",
       "    <tr>\n",
       "      <th>134</th>\n",
       "      <td>6.1</td>\n",
       "      <td>2.6</td>\n",
       "      <td>5.6</td>\n",
       "      <td>1.4</td>\n",
       "      <td>Iris-virginica</td>\n",
       "    </tr>\n",
       "    <tr>\n",
       "      <th>135</th>\n",
       "      <td>7.7</td>\n",
       "      <td>3.0</td>\n",
       "      <td>6.1</td>\n",
       "      <td>2.3</td>\n",
       "      <td>Iris-virginica</td>\n",
       "    </tr>\n",
       "    <tr>\n",
       "      <th>136</th>\n",
       "      <td>6.3</td>\n",
       "      <td>3.4</td>\n",
       "      <td>5.6</td>\n",
       "      <td>2.4</td>\n",
       "      <td>Iris-virginica</td>\n",
       "    </tr>\n",
       "    <tr>\n",
       "      <th>137</th>\n",
       "      <td>6.4</td>\n",
       "      <td>3.1</td>\n",
       "      <td>5.5</td>\n",
       "      <td>1.8</td>\n",
       "      <td>Iris-virginica</td>\n",
       "    </tr>\n",
       "    <tr>\n",
       "      <th>138</th>\n",
       "      <td>6.0</td>\n",
       "      <td>3.0</td>\n",
       "      <td>4.8</td>\n",
       "      <td>1.8</td>\n",
       "      <td>Iris-virginica</td>\n",
       "    </tr>\n",
       "    <tr>\n",
       "      <th>139</th>\n",
       "      <td>6.9</td>\n",
       "      <td>3.1</td>\n",
       "      <td>5.4</td>\n",
       "      <td>2.1</td>\n",
       "      <td>Iris-virginica</td>\n",
       "    </tr>\n",
       "    <tr>\n",
       "      <th>140</th>\n",
       "      <td>6.7</td>\n",
       "      <td>3.1</td>\n",
       "      <td>5.6</td>\n",
       "      <td>2.4</td>\n",
       "      <td>Iris-virginica</td>\n",
       "    </tr>\n",
       "    <tr>\n",
       "      <th>141</th>\n",
       "      <td>6.9</td>\n",
       "      <td>3.1</td>\n",
       "      <td>5.1</td>\n",
       "      <td>2.3</td>\n",
       "      <td>Iris-virginica</td>\n",
       "    </tr>\n",
       "    <tr>\n",
       "      <th>142</th>\n",
       "      <td>5.8</td>\n",
       "      <td>2.7</td>\n",
       "      <td>5.1</td>\n",
       "      <td>1.9</td>\n",
       "      <td>Iris-virginica</td>\n",
       "    </tr>\n",
       "    <tr>\n",
       "      <th>143</th>\n",
       "      <td>6.8</td>\n",
       "      <td>3.2</td>\n",
       "      <td>5.9</td>\n",
       "      <td>2.3</td>\n",
       "      <td>Iris-virginica</td>\n",
       "    </tr>\n",
       "    <tr>\n",
       "      <th>144</th>\n",
       "      <td>6.7</td>\n",
       "      <td>3.3</td>\n",
       "      <td>5.7</td>\n",
       "      <td>2.5</td>\n",
       "      <td>Iris-virginica</td>\n",
       "    </tr>\n",
       "    <tr>\n",
       "      <th>145</th>\n",
       "      <td>6.7</td>\n",
       "      <td>3.0</td>\n",
       "      <td>5.2</td>\n",
       "      <td>2.3</td>\n",
       "      <td>Iris-virginica</td>\n",
       "    </tr>\n",
       "    <tr>\n",
       "      <th>146</th>\n",
       "      <td>6.3</td>\n",
       "      <td>2.5</td>\n",
       "      <td>5.0</td>\n",
       "      <td>1.9</td>\n",
       "      <td>Iris-virginica</td>\n",
       "    </tr>\n",
       "    <tr>\n",
       "      <th>147</th>\n",
       "      <td>6.5</td>\n",
       "      <td>3.0</td>\n",
       "      <td>5.2</td>\n",
       "      <td>2.0</td>\n",
       "      <td>Iris-virginica</td>\n",
       "    </tr>\n",
       "    <tr>\n",
       "      <th>148</th>\n",
       "      <td>6.2</td>\n",
       "      <td>3.4</td>\n",
       "      <td>5.4</td>\n",
       "      <td>2.3</td>\n",
       "      <td>Iris-virginica</td>\n",
       "    </tr>\n",
       "    <tr>\n",
       "      <th>149</th>\n",
       "      <td>5.9</td>\n",
       "      <td>3.0</td>\n",
       "      <td>5.1</td>\n",
       "      <td>1.8</td>\n",
       "      <td>Iris-virginica</td>\n",
       "    </tr>\n",
       "  </tbody>\n",
       "</table>\n",
       "<p>150 rows × 5 columns</p>\n",
       "</div>"
      ],
      "text/plain": [
       "       0    1    2    3               4\n",
       "0    5.1  3.5  1.4  0.2     Iris-setosa\n",
       "1    4.9  3.0  1.4  0.2     Iris-setosa\n",
       "2    4.7  3.2  1.3  0.2     Iris-setosa\n",
       "3    4.6  3.1  1.5  0.2     Iris-setosa\n",
       "4    5.0  3.6  1.4  0.2     Iris-setosa\n",
       "5    5.4  3.9  1.7  0.4     Iris-setosa\n",
       "6    4.6  3.4  1.4  0.3     Iris-setosa\n",
       "7    5.0  3.4  1.5  0.2     Iris-setosa\n",
       "8    4.4  2.9  1.4  0.2     Iris-setosa\n",
       "9    4.9  3.1  1.5  0.1     Iris-setosa\n",
       "10   5.4  3.7  1.5  0.2     Iris-setosa\n",
       "11   4.8  3.4  1.6  0.2     Iris-setosa\n",
       "12   4.8  3.0  1.4  0.1     Iris-setosa\n",
       "13   4.3  3.0  1.1  0.1     Iris-setosa\n",
       "14   5.8  4.0  1.2  0.2     Iris-setosa\n",
       "15   5.7  4.4  1.5  0.4     Iris-setosa\n",
       "16   5.4  3.9  1.3  0.4     Iris-setosa\n",
       "17   5.1  3.5  1.4  0.3     Iris-setosa\n",
       "18   5.7  3.8  1.7  0.3     Iris-setosa\n",
       "19   5.1  3.8  1.5  0.3     Iris-setosa\n",
       "20   5.4  3.4  1.7  0.2     Iris-setosa\n",
       "21   5.1  3.7  1.5  0.4     Iris-setosa\n",
       "22   4.6  3.6  1.0  0.2     Iris-setosa\n",
       "23   5.1  3.3  1.7  0.5     Iris-setosa\n",
       "24   4.8  3.4  1.9  0.2     Iris-setosa\n",
       "25   5.0  3.0  1.6  0.2     Iris-setosa\n",
       "26   5.0  3.4  1.6  0.4     Iris-setosa\n",
       "27   5.2  3.5  1.5  0.2     Iris-setosa\n",
       "28   5.2  3.4  1.4  0.2     Iris-setosa\n",
       "29   4.7  3.2  1.6  0.2     Iris-setosa\n",
       "..   ...  ...  ...  ...             ...\n",
       "120  6.9  3.2  5.7  2.3  Iris-virginica\n",
       "121  5.6  2.8  4.9  2.0  Iris-virginica\n",
       "122  7.7  2.8  6.7  2.0  Iris-virginica\n",
       "123  6.3  2.7  4.9  1.8  Iris-virginica\n",
       "124  6.7  3.3  5.7  2.1  Iris-virginica\n",
       "125  7.2  3.2  6.0  1.8  Iris-virginica\n",
       "126  6.2  2.8  4.8  1.8  Iris-virginica\n",
       "127  6.1  3.0  4.9  1.8  Iris-virginica\n",
       "128  6.4  2.8  5.6  2.1  Iris-virginica\n",
       "129  7.2  3.0  5.8  1.6  Iris-virginica\n",
       "130  7.4  2.8  6.1  1.9  Iris-virginica\n",
       "131  7.9  3.8  6.4  2.0  Iris-virginica\n",
       "132  6.4  2.8  5.6  2.2  Iris-virginica\n",
       "133  6.3  2.8  5.1  1.5  Iris-virginica\n",
       "134  6.1  2.6  5.6  1.4  Iris-virginica\n",
       "135  7.7  3.0  6.1  2.3  Iris-virginica\n",
       "136  6.3  3.4  5.6  2.4  Iris-virginica\n",
       "137  6.4  3.1  5.5  1.8  Iris-virginica\n",
       "138  6.0  3.0  4.8  1.8  Iris-virginica\n",
       "139  6.9  3.1  5.4  2.1  Iris-virginica\n",
       "140  6.7  3.1  5.6  2.4  Iris-virginica\n",
       "141  6.9  3.1  5.1  2.3  Iris-virginica\n",
       "142  5.8  2.7  5.1  1.9  Iris-virginica\n",
       "143  6.8  3.2  5.9  2.3  Iris-virginica\n",
       "144  6.7  3.3  5.7  2.5  Iris-virginica\n",
       "145  6.7  3.0  5.2  2.3  Iris-virginica\n",
       "146  6.3  2.5  5.0  1.9  Iris-virginica\n",
       "147  6.5  3.0  5.2  2.0  Iris-virginica\n",
       "148  6.2  3.4  5.4  2.3  Iris-virginica\n",
       "149  5.9  3.0  5.1  1.8  Iris-virginica\n",
       "\n",
       "[150 rows x 5 columns]"
      ]
     },
     "execution_count": 1,
     "metadata": {},
     "output_type": "execute_result"
    }
   ],
   "source": [
    "import pandas as pd\n",
    "\n",
    "df = pd.read_csv('https://archive.ics.uci.edu/ml/'\n",
    "        'machine-learning-databases/iris/iris.data', header=None)\n",
    "df"
   ]
  },
  {
   "cell_type": "code",
   "execution_count": 2,
   "metadata": {},
   "outputs": [
    {
     "name": "stdout",
     "output_type": "stream",
     "text": [
      "Class labels: [0 1 2]\n"
     ]
    }
   ],
   "source": [
    "from sklearn import datasets\n",
    "import numpy as np\n",
    "\n",
    "iris = datasets.load_iris()\n",
    "X = iris.data[:, [2, 3]]  #我們只用後面兩個特徵方便繪圖 \n",
    "# 花瓣長  花萼長\n",
    "y = iris.target\n",
    "\n",
    "print('Class labels:', np.unique(y))\n",
    "# 有三種花"
   ]
  },
  {
   "cell_type": "code",
   "execution_count": 3,
   "metadata": {
    "scrolled": false
   },
   "outputs": [
    {
     "data": {
      "text/plain": [
       "array([[ 1.4,  0.2],\n",
       "       [ 1.4,  0.2],\n",
       "       [ 1.3,  0.2],\n",
       "       [ 1.5,  0.2],\n",
       "       [ 1.4,  0.2],\n",
       "       [ 1.7,  0.4],\n",
       "       [ 1.4,  0.3],\n",
       "       [ 1.5,  0.2],\n",
       "       [ 1.4,  0.2],\n",
       "       [ 1.5,  0.1],\n",
       "       [ 1.5,  0.2],\n",
       "       [ 1.6,  0.2],\n",
       "       [ 1.4,  0.1],\n",
       "       [ 1.1,  0.1],\n",
       "       [ 1.2,  0.2],\n",
       "       [ 1.5,  0.4],\n",
       "       [ 1.3,  0.4],\n",
       "       [ 1.4,  0.3],\n",
       "       [ 1.7,  0.3],\n",
       "       [ 1.5,  0.3],\n",
       "       [ 1.7,  0.2],\n",
       "       [ 1.5,  0.4],\n",
       "       [ 1. ,  0.2],\n",
       "       [ 1.7,  0.5],\n",
       "       [ 1.9,  0.2],\n",
       "       [ 1.6,  0.2],\n",
       "       [ 1.6,  0.4],\n",
       "       [ 1.5,  0.2],\n",
       "       [ 1.4,  0.2],\n",
       "       [ 1.6,  0.2],\n",
       "       [ 1.6,  0.2],\n",
       "       [ 1.5,  0.4],\n",
       "       [ 1.5,  0.1],\n",
       "       [ 1.4,  0.2],\n",
       "       [ 1.5,  0.1],\n",
       "       [ 1.2,  0.2],\n",
       "       [ 1.3,  0.2],\n",
       "       [ 1.5,  0.1],\n",
       "       [ 1.3,  0.2],\n",
       "       [ 1.5,  0.2],\n",
       "       [ 1.3,  0.3],\n",
       "       [ 1.3,  0.3],\n",
       "       [ 1.3,  0.2],\n",
       "       [ 1.6,  0.6],\n",
       "       [ 1.9,  0.4],\n",
       "       [ 1.4,  0.3],\n",
       "       [ 1.6,  0.2],\n",
       "       [ 1.4,  0.2],\n",
       "       [ 1.5,  0.2],\n",
       "       [ 1.4,  0.2],\n",
       "       [ 4.7,  1.4],\n",
       "       [ 4.5,  1.5],\n",
       "       [ 4.9,  1.5],\n",
       "       [ 4. ,  1.3],\n",
       "       [ 4.6,  1.5],\n",
       "       [ 4.5,  1.3],\n",
       "       [ 4.7,  1.6],\n",
       "       [ 3.3,  1. ],\n",
       "       [ 4.6,  1.3],\n",
       "       [ 3.9,  1.4],\n",
       "       [ 3.5,  1. ],\n",
       "       [ 4.2,  1.5],\n",
       "       [ 4. ,  1. ],\n",
       "       [ 4.7,  1.4],\n",
       "       [ 3.6,  1.3],\n",
       "       [ 4.4,  1.4],\n",
       "       [ 4.5,  1.5],\n",
       "       [ 4.1,  1. ],\n",
       "       [ 4.5,  1.5],\n",
       "       [ 3.9,  1.1],\n",
       "       [ 4.8,  1.8],\n",
       "       [ 4. ,  1.3],\n",
       "       [ 4.9,  1.5],\n",
       "       [ 4.7,  1.2],\n",
       "       [ 4.3,  1.3],\n",
       "       [ 4.4,  1.4],\n",
       "       [ 4.8,  1.4],\n",
       "       [ 5. ,  1.7],\n",
       "       [ 4.5,  1.5],\n",
       "       [ 3.5,  1. ],\n",
       "       [ 3.8,  1.1],\n",
       "       [ 3.7,  1. ],\n",
       "       [ 3.9,  1.2],\n",
       "       [ 5.1,  1.6],\n",
       "       [ 4.5,  1.5],\n",
       "       [ 4.5,  1.6],\n",
       "       [ 4.7,  1.5],\n",
       "       [ 4.4,  1.3],\n",
       "       [ 4.1,  1.3],\n",
       "       [ 4. ,  1.3],\n",
       "       [ 4.4,  1.2],\n",
       "       [ 4.6,  1.4],\n",
       "       [ 4. ,  1.2],\n",
       "       [ 3.3,  1. ],\n",
       "       [ 4.2,  1.3],\n",
       "       [ 4.2,  1.2],\n",
       "       [ 4.2,  1.3],\n",
       "       [ 4.3,  1.3],\n",
       "       [ 3. ,  1.1],\n",
       "       [ 4.1,  1.3],\n",
       "       [ 6. ,  2.5],\n",
       "       [ 5.1,  1.9],\n",
       "       [ 5.9,  2.1],\n",
       "       [ 5.6,  1.8],\n",
       "       [ 5.8,  2.2],\n",
       "       [ 6.6,  2.1],\n",
       "       [ 4.5,  1.7],\n",
       "       [ 6.3,  1.8],\n",
       "       [ 5.8,  1.8],\n",
       "       [ 6.1,  2.5],\n",
       "       [ 5.1,  2. ],\n",
       "       [ 5.3,  1.9],\n",
       "       [ 5.5,  2.1],\n",
       "       [ 5. ,  2. ],\n",
       "       [ 5.1,  2.4],\n",
       "       [ 5.3,  2.3],\n",
       "       [ 5.5,  1.8],\n",
       "       [ 6.7,  2.2],\n",
       "       [ 6.9,  2.3],\n",
       "       [ 5. ,  1.5],\n",
       "       [ 5.7,  2.3],\n",
       "       [ 4.9,  2. ],\n",
       "       [ 6.7,  2. ],\n",
       "       [ 4.9,  1.8],\n",
       "       [ 5.7,  2.1],\n",
       "       [ 6. ,  1.8],\n",
       "       [ 4.8,  1.8],\n",
       "       [ 4.9,  1.8],\n",
       "       [ 5.6,  2.1],\n",
       "       [ 5.8,  1.6],\n",
       "       [ 6.1,  1.9],\n",
       "       [ 6.4,  2. ],\n",
       "       [ 5.6,  2.2],\n",
       "       [ 5.1,  1.5],\n",
       "       [ 5.6,  1.4],\n",
       "       [ 6.1,  2.3],\n",
       "       [ 5.6,  2.4],\n",
       "       [ 5.5,  1.8],\n",
       "       [ 4.8,  1.8],\n",
       "       [ 5.4,  2.1],\n",
       "       [ 5.6,  2.4],\n",
       "       [ 5.1,  2.3],\n",
       "       [ 5.1,  1.9],\n",
       "       [ 5.9,  2.3],\n",
       "       [ 5.7,  2.5],\n",
       "       [ 5.2,  2.3],\n",
       "       [ 5. ,  1.9],\n",
       "       [ 5.2,  2. ],\n",
       "       [ 5.4,  2.3],\n",
       "       [ 5.1,  1.8]])"
      ]
     },
     "execution_count": 3,
     "metadata": {},
     "output_type": "execute_result"
    }
   ],
   "source": [
    "X"
   ]
  },
  {
   "cell_type": "code",
   "execution_count": 4,
   "metadata": {},
   "outputs": [
    {
     "data": {
      "text/plain": [
       "array([0, 0, 0, 0, 0, 0, 0, 0, 0, 0, 0, 0, 0, 0, 0, 0, 0, 0, 0, 0, 0, 0, 0,\n",
       "       0, 0, 0, 0, 0, 0, 0, 0, 0, 0, 0, 0, 0, 0, 0, 0, 0, 0, 0, 0, 0, 0, 0,\n",
       "       0, 0, 0, 0, 1, 1, 1, 1, 1, 1, 1, 1, 1, 1, 1, 1, 1, 1, 1, 1, 1, 1, 1,\n",
       "       1, 1, 1, 1, 1, 1, 1, 1, 1, 1, 1, 1, 1, 1, 1, 1, 1, 1, 1, 1, 1, 1, 1,\n",
       "       1, 1, 1, 1, 1, 1, 1, 1, 2, 2, 2, 2, 2, 2, 2, 2, 2, 2, 2, 2, 2, 2, 2,\n",
       "       2, 2, 2, 2, 2, 2, 2, 2, 2, 2, 2, 2, 2, 2, 2, 2, 2, 2, 2, 2, 2, 2, 2,\n",
       "       2, 2, 2, 2, 2, 2, 2, 2, 2, 2, 2, 2])"
      ]
     },
     "execution_count": 4,
     "metadata": {},
     "output_type": "execute_result"
    }
   ],
   "source": [
    "y"
   ]
  },
  {
   "cell_type": "markdown",
   "metadata": {},
   "source": [
    "將以上150筆訓練資料隨機分成訓練數據集和測試數據集\n",
    "其中70%為訓練數據集30%為測試數據集"
   ]
  },
  {
   "cell_type": "code",
   "execution_count": 5,
   "metadata": {
    "collapsed": true
   },
   "outputs": [],
   "source": [
    "from sklearn.model_selection import train_test_split\n",
    "\n",
    "X_train, X_test, y_train, y_test = train_test_split(X, y, test_size=0.3, random_state=0)\n",
    "\n",
    "# random_state=0 確保每次切分資料的結果都相同"
   ]
  },
  {
   "cell_type": "markdown",
   "metadata": {},
   "source": [
    "特徵縮放Standardizing the features:"
   ]
  },
  {
   "cell_type": "code",
   "execution_count": 6,
   "metadata": {
    "collapsed": true
   },
   "outputs": [],
   "source": [
    "from sklearn.preprocessing import StandardScaler\n",
    "#前處理的一種  \n",
    "sc = StandardScaler() \n",
    "sc.fit(X_train)\n",
    "X_train_std = sc.transform(X_train)\n",
    "X_test_std = sc.transform(X_test)"
   ]
  },
  {
   "cell_type": "code",
   "execution_count": 7,
   "metadata": {},
   "outputs": [
    {
     "data": {
      "text/plain": [
       "array([[ 0.70793846,  1.50872803],\n",
       "       [ 0.09545238, -0.29145882],\n",
       "       [-1.35224199, -1.32013702],\n",
       "       [ 1.37610509,  0.73721938],\n",
       "       [-1.29656144, -1.32013702],\n",
       "       [ 1.20906343,  1.6373128 ],\n",
       "       [-1.40792255, -1.19155225],\n",
       "       [ 0.48521625,  0.35146505],\n",
       "       [ 0.5408968 ,  0.22288028],\n",
       "       [ 0.09545238,  0.0942955 ],\n",
       "       [ 0.98634122,  0.22288028],\n",
       "       [ 0.37385514,  0.35146505],\n",
       "       [ 0.48521625, -0.03428927],\n",
       "       [ 0.42953569,  0.35146505],\n",
       "       [ 0.48521625,  0.22288028],\n",
       "       [-1.29656144, -1.4487218 ],\n",
       "       [ 0.37385514,  0.35146505],\n",
       "       [ 0.31817459, -0.03428927],\n",
       "       [-1.35224199, -1.19155225],\n",
       "       [-1.40792255, -1.06296747],\n",
       "       [ 0.59657735,  0.99438893],\n",
       "       [ 0.37385514,  0.35146505],\n",
       "       [-1.07383923, -1.32013702],\n",
       "       [-1.35224199, -1.32013702],\n",
       "       [ 0.5408968 ,  0.73721938],\n",
       "       [-1.57496421, -1.32013702],\n",
       "       [-1.07383923, -1.06296747],\n",
       "       [ 0.26249403,  0.0942955 ],\n",
       "       [-0.29431149, -0.29145882],\n",
       "       [-1.24088089, -1.06296747],\n",
       "       [ 0.93066067,  0.73721938],\n",
       "       [ 0.37385514,  0.35146505],\n",
       "       [-1.29656144, -1.32013702],\n",
       "       [ 0.59657735,  0.73721938],\n",
       "       [ 0.98634122,  1.25155848],\n",
       "       [ 0.03977182,  0.22288028],\n",
       "       [-1.18520034, -1.19155225],\n",
       "       [ 0.70793846,  0.48004983],\n",
       "       [ 0.20681348,  0.35146505],\n",
       "       [ 0.09545238, -0.03428927],\n",
       "       [ 0.93066067,  1.1229737 ],\n",
       "       [-1.40792255, -1.32013702],\n",
       "       [ 0.70793846,  1.38014325],\n",
       "       [-1.24088089, -0.80579792],\n",
       "       [-1.29656144, -1.32013702]])"
      ]
     },
     "execution_count": 7,
     "metadata": {},
     "output_type": "execute_result"
    }
   ],
   "source": [
    "X_test_std"
   ]
  },
  {
   "cell_type": "markdown",
   "metadata": {},
   "source": [
    "# 使用scikit-learn中的PLA做機器學習"
   ]
  },
  {
   "cell_type": "markdown",
   "metadata": {},
   "source": [
    "因為有三類別\n",
    "預設會使用one vs rest 方法"
   ]
  },
  {
   "cell_type": "code",
   "execution_count": 8,
   "metadata": {},
   "outputs": [
    {
     "data": {
      "text/plain": [
       "Perceptron(alpha=0.0001, class_weight=None, eta0=0.1, fit_intercept=True,\n",
       "      n_iter=40, n_jobs=1, penalty=None, random_state=0, shuffle=True,\n",
       "      verbose=0, warm_start=False)"
      ]
     },
     "execution_count": 8,
     "metadata": {},
     "output_type": "execute_result"
    }
   ],
   "source": [
    "from sklearn.linear_model import Perceptron\n",
    "\n",
    "ppn = Perceptron(n_iter=40, eta0=0.1, random_state=0)\n",
    "#設定最多迭代40次,學習速率0.1\n",
    "ppn.fit(X_train_std, y_train)\n",
    "#用fit方法來訓練模型"
   ]
  },
  {
   "cell_type": "code",
   "execution_count": 9,
   "metadata": {},
   "outputs": [
    {
     "data": {
      "text/plain": [
       "(45,)"
      ]
     },
     "execution_count": 9,
     "metadata": {},
     "output_type": "execute_result"
    }
   ],
   "source": [
    "y_test.shape"
   ]
  },
  {
   "cell_type": "code",
   "execution_count": 10,
   "metadata": {},
   "outputs": [
    {
     "name": "stdout",
     "output_type": "stream",
     "text": [
      "Misclassified samples: 4\n"
     ]
    }
   ],
   "source": [
    "y_pred = ppn.predict(X_test_std)\n",
    "#用predict方法來預測測試集\n",
    "print('Misclassified samples: %d' % (y_test != y_pred).sum())\n",
    "#計算預測出來的類別和事實不符的數量"
   ]
  },
  {
   "cell_type": "code",
   "execution_count": 11,
   "metadata": {},
   "outputs": [
    {
     "data": {
      "text/plain": [
       "0.08888888888888889"
      ]
     },
     "execution_count": 11,
     "metadata": {},
     "output_type": "execute_result"
    }
   ],
   "source": [
    "4/45"
   ]
  },
  {
   "cell_type": "code",
   "execution_count": 12,
   "metadata": {},
   "outputs": [
    {
     "name": "stdout",
     "output_type": "stream",
     "text": [
      "Accuracy: 0.91\n"
     ]
    }
   ],
   "source": [
    "from sklearn.metrics import accuracy_score\n",
    "\n",
    "print('Accuracy: %.2f' % accuracy_score(y_test, y_pred))"
   ]
  },
  {
   "cell_type": "markdown",
   "metadata": {},
   "source": [
    "## 作圖"
   ]
  },
  {
   "cell_type": "code",
   "execution_count": 13,
   "metadata": {
    "collapsed": true
   },
   "outputs": [],
   "source": [
    "from matplotlib.colors import ListedColormap\n",
    "import matplotlib.pyplot as plt\n",
    "import warnings\n",
    "\n",
    "def versiontuple(v):\n",
    "    return tuple(map(int, (v.split(\".\"))))\n",
    "\n",
    "def plot_decision_regions(X, y, classifier, test_idx=None, resolution=0.02):\n",
    "\n",
    "    # setup marker generator and color map\n",
    "    markers = ('s', 'x', 'o', '^', 'v')\n",
    "    colors = ('red', 'blue', 'lightgreen', 'gray', 'cyan')\n",
    "    cmap = ListedColormap(colors[:len(np.unique(y))])\n",
    "\n",
    "    # plot the decision surface\n",
    "    x1_min, x1_max = X[:, 0].min() - 1, X[:, 0].max() + 1\n",
    "    x2_min, x2_max = X[:, 1].min() - 1, X[:, 1].max() + 1\n",
    "    xx1, xx2 = np.meshgrid(np.arange(x1_min, x1_max, resolution),\n",
    "                           np.arange(x2_min, x2_max, resolution))\n",
    "    Z = classifier.predict(np.array([xx1.ravel(), xx2.ravel()]).T)\n",
    "    Z = Z.reshape(xx1.shape)\n",
    "    plt.contourf(xx1, xx2, Z, alpha=0.4, cmap=cmap)\n",
    "    plt.xlim(xx1.min(), xx1.max())\n",
    "    plt.ylim(xx2.min(), xx2.max())\n",
    "\n",
    "    for idx, cl in enumerate(np.unique(y)):\n",
    "        plt.scatter(x=X[y == cl, 0], \n",
    "                    y=X[y == cl, 1],\n",
    "                    alpha=0.6, \n",
    "                    c=cmap(idx),\n",
    "                    edgecolor='black',\n",
    "                    marker=markers[idx], \n",
    "                    label=cl)\n",
    "\n",
    "    # highlight test samples\n",
    "    if test_idx:\n",
    "        # plot all samples\n",
    "        if not versiontuple(np.__version__) >= versiontuple('1.9.0'):\n",
    "            X_test, y_test = X[list(test_idx), :], y[list(test_idx)]\n",
    "            warnings.warn('Please update to NumPy 1.9.0 or newer')\n",
    "        else:\n",
    "            X_test, y_test = X[test_idx, :], y[test_idx]\n",
    "\n",
    "        plt.scatter(X_test[:, 0],\n",
    "                    X_test[:, 1],\n",
    "                    c='',\n",
    "                    alpha=1.0,\n",
    "                    edgecolor='black',\n",
    "                    linewidths=1,\n",
    "                    marker='o',\n",
    "                    s=55, label='test set')"
   ]
  },
  {
   "cell_type": "code",
   "execution_count": 14,
   "metadata": {},
   "outputs": [
    {
     "data": {
      "image/png": "[encoded data removed]",
      "text/plain": [
       "<matplotlib.figure.Figure at 0x1e9e6831be0>"
      ]
     },
     "metadata": {},
     "output_type": "display_data"
    }
   ],
   "source": [
    "\n",
    "X_combined_std = np.vstack((X_train_std, X_test_std))\n",
    "y_combined = np.hstack((y_train, y_test))\n",
    "\n",
    "plot_decision_regions(X=X_combined_std, y=y_combined,\n",
    "                      classifier=ppn, test_idx=range(105, 150))\n",
    "plt.xlabel('petal length [standardized]')\n",
    "plt.ylabel('petal width [standardized]')\n",
    "plt.legend(loc='upper left')\n",
    "\n",
    "plt.tight_layout()\n",
    "plt.show()"
   ]
  },
  {
   "cell_type": "code",
   "execution_count": 25,
   "metadata": {},
   "outputs": [
    {
     "data": {
      "text/plain": [
       "array([1, 2, 2, 2, 2, 1, 2, 1, 1, 2, 2, 2, 2, 1, 2, 1, 0, 2, 1, 1, 1, 1, 2,\n",
       "       0, 0, 2, 1, 0, 0, 1, 0, 2, 1, 0, 1, 2, 1, 0, 2, 2, 2, 2, 0, 0, 2, 2,\n",
       "       0, 2, 0, 2, 2, 0, 0, 2, 0, 0, 0, 1, 2, 2, 0, 0, 0, 1, 1, 0, 0, 1, 0,\n",
       "       2, 1, 2, 1, 0, 2, 0, 2, 0, 0, 2, 0, 2, 1, 1, 1, 2, 2, 1, 1, 0, 1, 2,\n",
       "       2, 0, 1, 1, 1, 1, 0, 0, 0, 2, 1, 2, 0, 2, 1, 0, 2, 0, 2, 0, 1, 1, 1,\n",
       "       2, 1, 1, 1, 1, 0, 1, 1, 0, 0, 2, 1, 0, 0, 2, 0, 0, 1, 1, 0, 2, 1, 0,\n",
       "       2, 2, 1, 0, 1, 1, 1, 2, 0, 2, 0, 0])"
      ]
     },
     "execution_count": 25,
     "metadata": {},
     "output_type": "execute_result"
    }
   ],
   "source": [
    "np.hstack((y_train, y_test))"
   ]
  },
  {
   "cell_type": "code",
   "execution_count": 23,
   "metadata": {},
   "outputs": [
    {
     "data": {
      "text/plain": [
       "array([[-0.18295039, -0.29145882],\n",
       "       [ 0.93066067,  0.73721938],\n",
       "       [ 1.04202177,  1.6373128 ],\n",
       "       [ 0.6522579 ,  0.35146505],\n",
       "       [ 1.09770233,  0.73721938],\n",
       "       [ 0.03977182, -0.16287405],\n",
       "       [ 1.26474398,  1.38014325],\n",
       "       [ 0.48521625,  0.48004983],\n",
       "       [-0.01590873, -0.16287405],\n",
       "       [ 0.59657735,  0.73721938],\n",
       "       [ 0.70793846,  0.35146505],\n",
       "       [ 0.37385514,  0.6086346 ],\n",
       "       [ 0.6522579 ,  0.86580415],\n",
       "       [ 0.48521625,  0.22288028],\n",
       "       [ 0.76361901,  0.99438893],\n",
       "       [ 0.37385514,  0.48004983],\n",
       "       [-1.24088089, -1.32013702],\n",
       "       [ 0.70793846,  0.86580415],\n",
       "       [ 0.20681348,  0.0942955 ],\n",
       "       [-0.12726983,  0.0942955 ],\n",
       "       [ 0.09545238,  0.0942955 ],\n",
       "       [ 0.42953569,  0.22288028],\n",
       "       [ 1.20906343,  0.73721938],\n",
       "       [-1.29656144, -1.32013702],\n",
       "       [-1.51928365, -1.4487218 ],\n",
       "       [ 0.81929956,  0.86580415],\n",
       "       [ 0.20681348, -0.03428927],\n",
       "       [-1.18520034, -1.32013702],\n",
       "       [-1.29656144, -1.06296747],\n",
       "       [ 0.59657735,  0.35146505],\n",
       "       [-1.29656144, -1.32013702],\n",
       "       [ 0.70793846,  0.73721938],\n",
       "       [-0.46135315, -0.16287405],\n",
       "       [-1.35224199, -1.19155225],\n",
       "       [ 0.37385514,  0.35146505],\n",
       "       [ 1.26474398,  1.6373128 ],\n",
       "       [ 0.20681348,  0.0942955 ],\n",
       "       [-1.35224199, -1.4487218 ],\n",
       "       [ 1.15338288,  1.1229737 ],\n",
       "       [ 1.04202177,  1.38014325],\n",
       "       [ 1.09770233,  1.25155848],\n",
       "       [ 0.98634122,  1.1229737 ],\n",
       "       [-1.24088089, -1.32013702],\n",
       "       [-1.24088089, -1.32013702],\n",
       "       [ 0.70793846,  0.99438893],\n",
       "       [ 1.04202177,  1.1229737 ],\n",
       "       [-1.40792255, -1.19155225],\n",
       "       [ 0.87498011,  1.38014325],\n",
       "       [-1.35224199, -1.32013702],\n",
       "       [ 0.6522579 ,  0.99438893],\n",
       "       [ 0.87498011,  1.1229737 ],\n",
       "       [-1.40792255, -1.32013702],\n",
       "       [-1.35224199, -1.32013702],\n",
       "       [ 1.09770233,  0.48004983],\n",
       "       [-1.35224199, -1.19155225],\n",
       "       [-1.40792255, -1.32013702],\n",
       "       [-1.18520034, -1.06296747],\n",
       "       [ 0.09545238,  0.0942955 ],\n",
       "       [ 1.15338288,  1.38014325],\n",
       "       [ 1.54314675,  1.1229737 ],\n",
       "       [-1.35224199, -1.32013702],\n",
       "       [-1.29656144, -1.4487218 ],\n",
       "       [-1.35224199, -1.32013702],\n",
       "       [ 0.37385514,  0.0942955 ],\n",
       "       [ 0.31817459,  0.22288028],\n",
       "       [-1.4636031 , -1.32013702],\n",
       "       [-1.18520034, -0.9343827 ],\n",
       "       [ 0.26249403,  0.0942955 ],\n",
       "       [-1.29656144, -1.06296747],\n",
       "       [ 1.71018841,  1.38014325],\n",
       "       [-0.29431149, -0.29145882],\n",
       "       [ 1.43178564,  0.99438893],\n",
       "       [ 0.31817459,  0.22288028],\n",
       "       [-1.29656144, -1.4487218 ],\n",
       "       [ 0.5408968 ,  0.73721938],\n",
       "       [-1.4636031 , -1.32013702],\n",
       "       [ 1.5988273 ,  0.99438893],\n",
       "       [-1.29656144, -1.19155225],\n",
       "       [-1.24088089, -1.32013702],\n",
       "       [ 1.26474398,  0.86580415],\n",
       "       [-1.35224199, -1.32013702],\n",
       "       [ 0.98634122,  1.50872803],\n",
       "       [ 0.15113293,  0.0942955 ],\n",
       "       [ 0.03977182, -0.03428927],\n",
       "       [-0.18295039, -0.29145882],\n",
       "       [ 0.81929956,  1.38014325],\n",
       "       [ 0.76361901,  1.38014325],\n",
       "       [ 0.59657735,  0.35146505],\n",
       "       [ 0.6522579 ,  0.6086346 ],\n",
       "       [-1.24088089, -1.32013702],\n",
       "       [-0.07158928, -0.29145882],\n",
       "       [ 0.98634122,  1.50872803],\n",
       "       [ 0.70793846,  0.86580415],\n",
       "       [-1.29656144, -1.32013702],\n",
       "       [ 0.42953569,  0.0942955 ],\n",
       "       [ 0.15113293,  0.0942955 ],\n",
       "       [ 0.5408968 ,  0.73721938],\n",
       "       [ 0.31817459,  0.0942955 ],\n",
       "       [-1.40792255, -1.32013702],\n",
       "       [-1.29656144, -1.06296747],\n",
       "       [-1.29656144, -1.4487218 ],\n",
       "       [ 0.98634122,  0.73721938],\n",
       "       [ 0.15113293, -0.29145882],\n",
       "       [ 1.5988273 ,  1.25155848],\n",
       "       [-1.35224199, -1.32013702],\n",
       "       [ 0.70793846,  1.50872803],\n",
       "       [ 0.09545238, -0.29145882],\n",
       "       [-1.35224199, -1.32013702],\n",
       "       [ 1.37610509,  0.73721938],\n",
       "       [-1.29656144, -1.32013702],\n",
       "       [ 1.20906343,  1.6373128 ],\n",
       "       [-1.40792255, -1.19155225],\n",
       "       [ 0.48521625,  0.35146505],\n",
       "       [ 0.5408968 ,  0.22288028],\n",
       "       [ 0.09545238,  0.0942955 ],\n",
       "       [ 0.98634122,  0.22288028],\n",
       "       [ 0.37385514,  0.35146505],\n",
       "       [ 0.48521625, -0.03428927],\n",
       "       [ 0.42953569,  0.35146505],\n",
       "       [ 0.48521625,  0.22288028],\n",
       "       [-1.29656144, -1.4487218 ],\n",
       "       [ 0.37385514,  0.35146505],\n",
       "       [ 0.31817459, -0.03428927],\n",
       "       [-1.35224199, -1.19155225],\n",
       "       [-1.40792255, -1.06296747],\n",
       "       [ 0.59657735,  0.99438893],\n",
       "       [ 0.37385514,  0.35146505],\n",
       "       [-1.07383923, -1.32013702],\n",
       "       [-1.35224199, -1.32013702],\n",
       "       [ 0.5408968 ,  0.73721938],\n",
       "       [-1.57496421, -1.32013702],\n",
       "       [-1.07383923, -1.06296747],\n",
       "       [ 0.26249403,  0.0942955 ],\n",
       "       [-0.29431149, -0.29145882],\n",
       "       [-1.24088089, -1.06296747],\n",
       "       [ 0.93066067,  0.73721938],\n",
       "       [ 0.37385514,  0.35146505],\n",
       "       [-1.29656144, -1.32013702],\n",
       "       [ 0.59657735,  0.73721938],\n",
       "       [ 0.98634122,  1.25155848],\n",
       "       [ 0.03977182,  0.22288028],\n",
       "       [-1.18520034, -1.19155225],\n",
       "       [ 0.70793846,  0.48004983],\n",
       "       [ 0.20681348,  0.35146505],\n",
       "       [ 0.09545238, -0.03428927],\n",
       "       [ 0.93066067,  1.1229737 ],\n",
       "       [-1.40792255, -1.32013702],\n",
       "       [ 0.70793846,  1.38014325],\n",
       "       [-1.24088089, -0.80579792],\n",
       "       [-1.29656144, -1.32013702]])"
      ]
     },
     "execution_count": 23,
     "metadata": {},
     "output_type": "execute_result"
    }
   ],
   "source": [
    "np.vstack((X_train_std, X_test_std))"
   ]
  },
  {
   "cell_type": "markdown",
   "metadata": {},
   "source": [
    "黑色的o是測試數據集"
   ]
  },
  {
   "cell_type": "markdown",
   "metadata": {},
   "source": [
    "事實上訓練數據集畫出的決策邊界沒有很成功\n",
    "正確率只用測試數據集計算 45個數據只有4個錯誤分類"
   ]
  },
  {
   "cell_type": "markdown",
   "metadata": {},
   "source": [
    "# 邏輯斯迴歸"
   ]
  },
  {
   "cell_type": "code",
   "execution_count": 15,
   "metadata": {},
   "outputs": [
    {
     "data": {
      "image/png": "[encoded data removed]",
      "text/plain": [
       "<matplotlib.figure.Figure at 0x1e9e83c25c0>"
      ]
     },
     "metadata": {},
     "output_type": "display_data"
    }
   ],
   "source": [
    "import matplotlib.pyplot as plt\n",
    "import numpy as np\n",
    "\n",
    "def sigmoid(z):\n",
    "    return 1.0 / (1.0 + np.exp(-z))\n",
    "\n",
    "z = np.arange(-7, 7, 0.1)\n",
    "phi_z = sigmoid(z)\n",
    "\n",
    "plt.plot(z, phi_z)\n",
    "#畫圖\n",
    "plt.axvline(0.0, color='k')\n",
    "#畫縱軸\n",
    "plt.ylim(-0.1, 1.1)\n",
    "#縱軸範圍\n",
    "plt.xlabel('z')\n",
    "plt.ylabel('$\\phi (z)$')\n",
    "\n",
    "# y axis ticks and gridline\n",
    "plt.yticks([0.0, 0.5, 1.0])\n",
    "ax = plt.gca()\n",
    "ax.yaxis.grid(True)\n",
    "\n",
    "plt.show()"
   ]
  },
  {
   "cell_type": "markdown",
   "metadata": {},
   "source": [
    "sigmoid function"
   ]
  },
  {
   "cell_type": "code",
   "execution_count": 16,
   "metadata": {},
   "outputs": [
    {
     "data": {
      "image/png": "[encoded data removed]",
      "text/plain": [
       "<matplotlib.figure.Figure at 0x1e9e9e22ac8>"
      ]
     },
     "metadata": {},
     "output_type": "display_data"
    }
   ],
   "source": [
    "def cost_1(z):\n",
    "    return - np.log(sigmoid(z))\n",
    "\n",
    "def cost_0(z):\n",
    "    return - np.log(1 - sigmoid(z))\n",
    "\n",
    "z = np.arange(-10, 10, 0.1)\n",
    "phi_z = sigmoid(z)\n",
    "\n",
    "c1 = [cost_1(x) for x in z]\n",
    "plt.plot(phi_z, c1, label='J(w) if y=1')\n",
    "\n",
    "c0 = [cost_0(x) for x in z]\n",
    "plt.plot(phi_z, c0, linestyle='--', label='J(w) if y=0')\n",
    "\n",
    "plt.ylim(0.0, 5.1)\n",
    "plt.xlim([0, 1])\n",
    "plt.xlabel('$\\phi$(z)')\n",
    "plt.ylabel('J(w)')\n",
    "plt.legend(loc='best')\n",
    "plt.tight_layout()\n",
    "# plt.savefig('./figures/log_cost.png', dpi=300)\n",
    "plt.show()"
   ]
  },
  {
   "cell_type": "markdown",
   "metadata": {},
   "source": [
    "cost function"
   ]
  },
  {
   "cell_type": "code",
   "execution_count": 17,
   "metadata": {},
   "outputs": [
    {
     "data": {
      "image/png": "[encoded data removed]",
      "text/plain": [
       "<matplotlib.figure.Figure at 0x1e9e8b02080>"
      ]
     },
     "metadata": {},
     "output_type": "display_data"
    }
   ],
   "source": [
    "from sklearn.linear_model import LogisticRegression\n",
    "\n",
    "lr = LogisticRegression(C=1000.0, random_state=0)\n",
    "lr.fit(X_train_std, y_train)\n",
    "# 實例化後使用fit方法一行就好了\n",
    "# C正規化的參數\n",
    "\n",
    "plot_decision_regions(X_combined_std, y_combined,\n",
    "                      classifier=lr, test_idx=range(105, 150))\n",
    "\n",
    "plt.xlabel('petal length [standardized]')\n",
    "plt.ylabel('petal width [standardized]')\n",
    "plt.legend(loc='upper left')\n",
    "\n",
    "plt.show()"
   ]
  },
  {
   "cell_type": "code",
   "execution_count": 18,
   "metadata": {},
   "outputs": [
    {
     "data": {
      "text/plain": [
       "array([[  2.05743774e-11,   6.31620264e-02,   9.36837974e-01]])"
      ]
     },
     "execution_count": 18,
     "metadata": {},
     "output_type": "execute_result"
    }
   ],
   "source": [
    "lr.predict_proba(X_test_std[0, :].reshape(1, -1))"
   ]
  },
  {
   "cell_type": "code",
   "execution_count": 19,
   "metadata": {},
   "outputs": [
    {
     "data": {
      "text/plain": [
       "array([ 0.70793846,  1.50872803])"
      ]
     },
     "execution_count": 19,
     "metadata": {},
     "output_type": "execute_result"
    }
   ],
   "source": [
    "X_test_std[0, :]"
   ]
  },
  {
   "cell_type": "code",
   "execution_count": 20,
   "metadata": {},
   "outputs": [
    {
     "data": {
      "text/plain": [
       "array([[ 0.70793846,  1.50872803]])"
      ]
     },
     "execution_count": 20,
     "metadata": {},
     "output_type": "execute_result"
    }
   ],
   "source": [
    "X_test_std[0, :].reshape(1, -1)"
   ]
  },
  {
   "cell_type": "code",
   "execution_count": 21,
   "metadata": {},
   "outputs": [
    {
     "name": "stderr",
     "output_type": "stream",
     "text": [
      "C:\\Users\\mimur\\Anaconda3\\lib\\site-packages\\sklearn\\utils\\validation.py:395: DeprecationWarning: Passing 1d arrays as data is deprecated in 0.17 and will raise ValueError in 0.19. Reshape your data either using X.reshape(-1, 1) if your data has a single feature or X.reshape(1, -1) if it contains a single sample.\n",
      "  DeprecationWarning)\n"
     ]
    },
    {
     "data": {
      "text/plain": [
       "array([[  2.05743774e-11,   6.31620264e-02,   9.36837974e-01]])"
      ]
     },
     "execution_count": 21,
     "metadata": {},
     "output_type": "execute_result"
    }
   ],
   "source": [
    "lr.predict_proba(X_test_std[0, :])"
   ]
  },
  {
   "cell_type": "code",
   "execution_count": 415,
   "metadata": {},
   "outputs": [
    {
     "name": "stdout",
     "output_type": "stream",
     "text": [
      "Accuracy: 0.98\n"
     ]
    }
   ],
   "source": [
    "y_pred = lr.predict(X_test_std)\n",
    "print('Accuracy: %.2f' % accuracy_score(y_test, y_pred))"
   ]
  },
  {
   "cell_type": "markdown",
   "metadata": {},
   "source": [
    "# SVM"
   ]
  },
  {
   "cell_type": "code",
   "execution_count": 416,
   "metadata": {},
   "outputs": [
    {
     "data": {
      "image/png": "[encoded data removed]",
      "text/plain": [
       "<matplotlib.figure.Figure at 0x1deff312e10>"
      ]
     },
     "metadata": {},
     "output_type": "display_data"
    }
   ],
   "source": [
    "from sklearn.svm import SVC\n",
    "\n",
    "svm = SVC(kernel='linear', C=1.0, random_state=0)\n",
    "svm.fit(X_train_std, y_train)\n",
    "# 實例化後使用fit方法一行就好了\n",
    "# C正規化的參數\n",
    "\n",
    "plot_decision_regions(X_combined_std, y_combined,\n",
    "                      classifier=svm, test_idx=range(105, 150))\n",
    "plt.xlabel('petal length [standardized]')\n",
    "plt.ylabel('petal width [standardized]')\n",
    "plt.legend(loc='upper left')\n",
    "\n",
    "plt.show()"
   ]
  },
  {
   "cell_type": "code",
   "execution_count": 417,
   "metadata": {},
   "outputs": [
    {
     "name": "stdout",
     "output_type": "stream",
     "text": [
      "Accuracy: 0.98\n"
     ]
    }
   ],
   "source": [
    "y_pred = svm.predict(X_test_std)\n",
    "print('Accuracy: %.2f' % accuracy_score(y_test, y_pred))"
   ]
  },
  {
   "cell_type": "markdown",
   "metadata": {},
   "source": [
    "LR 和 SVM 結果很像\n",
    "但是LR比較容易被離群值影響\n",
    "LR 優點是比較快  處理串流數據的時候比較好用"
   ]
  },
  {
   "cell_type": "markdown",
   "metadata": {},
   "source": [
    "## SVM 解 非線性問題"
   ]
  },
  {
   "cell_type": "markdown",
   "metadata": {},
   "source": [
    "製造XOR亂數集"
   ]
  },
  {
   "cell_type": "code",
   "execution_count": 418,
   "metadata": {},
   "outputs": [
    {
     "data": {
      "image/png": "[encoded data removed]",
      "text/plain": [
       "<matplotlib.figure.Figure at 0x1defba12898>"
      ]
     },
     "metadata": {},
     "output_type": "display_data"
    }
   ],
   "source": [
    "import matplotlib.pyplot as plt\n",
    "import numpy as np\n",
    "\n",
    "np.random.seed(0)\n",
    "X_xor = np.random.randn(200, 2)\n",
    "y_xor = np.logical_xor(X_xor[:, 0] > 0,\n",
    "                       X_xor[:, 1] > 0)\n",
    "y_xor = np.where(y_xor, 1, -1)\n",
    "\n",
    "plt.scatter(X_xor[y_xor == 1, 0],\n",
    "            X_xor[y_xor == 1, 1],\n",
    "            c='b', marker='x',\n",
    "            label='1')\n",
    "plt.scatter(X_xor[y_xor == -1, 0],\n",
    "            X_xor[y_xor == -1, 1],\n",
    "            c='r',\n",
    "            marker='s',\n",
    "            label='-1')\n",
    "\n",
    "plt.xlim([-3, 3])\n",
    "plt.ylim([-3, 3])\n",
    "plt.legend(loc='best')\n",
    "\n",
    "plt.show()"
   ]
  },
  {
   "cell_type": "code",
   "execution_count": 419,
   "metadata": {},
   "outputs": [
    {
     "data": {
      "text/plain": [
       "array([[ 1.76405235,  0.40015721],\n",
       "       [ 0.97873798,  2.2408932 ],\n",
       "       [ 1.86755799, -0.97727788],\n",
       "       [ 0.95008842, -0.15135721],\n",
       "       [-0.10321885,  0.4105985 ],\n",
       "       [ 0.14404357,  1.45427351],\n",
       "       [ 0.76103773,  0.12167502],\n",
       "       [ 0.44386323,  0.33367433],\n",
       "       [ 1.49407907, -0.20515826],\n",
       "       [ 0.3130677 , -0.85409574],\n",
       "       [-2.55298982,  0.6536186 ],\n",
       "       [ 0.8644362 , -0.74216502],\n",
       "       [ 2.26975462, -1.45436567],\n",
       "       [ 0.04575852, -0.18718385],\n",
       "       [ 1.53277921,  1.46935877],\n",
       "       [ 0.15494743,  0.37816252],\n",
       "       [-0.88778575, -1.98079647],\n",
       "       [-0.34791215,  0.15634897],\n",
       "       [ 1.23029068,  1.20237985],\n",
       "       [-0.38732682, -0.30230275],\n",
       "       [-1.04855297, -1.42001794],\n",
       "       [-1.70627019,  1.9507754 ],\n",
       "       [-0.50965218, -0.4380743 ],\n",
       "       [-1.25279536,  0.77749036],\n",
       "       [-1.61389785, -0.21274028],\n",
       "       [-0.89546656,  0.3869025 ],\n",
       "       [-0.51080514, -1.18063218],\n",
       "       [-0.02818223,  0.42833187],\n",
       "       [ 0.06651722,  0.3024719 ],\n",
       "       [-0.63432209, -0.36274117],\n",
       "       [-0.67246045, -0.35955316],\n",
       "       [-0.81314628, -1.7262826 ],\n",
       "       [ 0.17742614, -0.40178094],\n",
       "       [-1.63019835,  0.46278226],\n",
       "       [-0.90729836,  0.0519454 ],\n",
       "       [ 0.72909056,  0.12898291],\n",
       "       [ 1.13940068, -1.23482582],\n",
       "       [ 0.40234164, -0.68481009],\n",
       "       [-0.87079715, -0.57884966],\n",
       "       [-0.31155253,  0.05616534],\n",
       "       [-1.16514984,  0.90082649],\n",
       "       [ 0.46566244, -1.53624369],\n",
       "       [ 1.48825219,  1.89588918],\n",
       "       [ 1.17877957, -0.17992484],\n",
       "       [-1.07075262,  1.05445173],\n",
       "       [-0.40317695,  1.22244507],\n",
       "       [ 0.20827498,  0.97663904],\n",
       "       [ 0.3563664 ,  0.70657317],\n",
       "       [ 0.01050002,  1.78587049],\n",
       "       [ 0.12691209,  0.40198936],\n",
       "       [ 1.8831507 , -1.34775906],\n",
       "       [-1.270485  ,  0.96939671],\n",
       "       [-1.17312341,  1.94362119],\n",
       "       [-0.41361898, -0.74745481],\n",
       "       [ 1.92294203,  1.48051479],\n",
       "       [ 1.86755896,  0.90604466],\n",
       "       [-0.86122569,  1.91006495],\n",
       "       [-0.26800337,  0.8024564 ],\n",
       "       [ 0.94725197, -0.15501009],\n",
       "       [ 0.61407937,  0.92220667],\n",
       "       [ 0.37642553, -1.09940079],\n",
       "       [ 0.29823817,  1.3263859 ],\n",
       "       [-0.69456786, -0.14963454],\n",
       "       [-0.43515355,  1.84926373],\n",
       "       [ 0.67229476,  0.40746184],\n",
       "       [-0.76991607,  0.53924919],\n",
       "       [-0.67433266,  0.03183056],\n",
       "       [-0.63584608,  0.67643329],\n",
       "       [ 0.57659082, -0.20829876],\n",
       "       [ 0.39600671, -1.09306151],\n",
       "       [-1.49125759,  0.4393917 ],\n",
       "       [ 0.1666735 ,  0.63503144],\n",
       "       [ 2.38314477,  0.94447949],\n",
       "       [-0.91282223,  1.11701629],\n",
       "       [-1.31590741, -0.4615846 ],\n",
       "       [-0.06824161,  1.71334272],\n",
       "       [-0.74475482, -0.82643854],\n",
       "       [-0.09845252, -0.66347829],\n",
       "       [ 1.12663592, -1.07993151],\n",
       "       [-1.14746865, -0.43782004],\n",
       "       [-0.49803245,  1.92953205],\n",
       "       [ 0.94942081,  0.08755124],\n",
       "       [-1.22543552,  0.84436298],\n",
       "       [-1.00021535, -1.5447711 ],\n",
       "       [ 1.18802979,  0.31694261],\n",
       "       [ 0.92085882,  0.31872765],\n",
       "       [ 0.85683061, -0.65102559],\n",
       "       [-1.03424284,  0.68159452],\n",
       "       [-0.80340966, -0.68954978],\n",
       "       [-0.4555325 ,  0.01747916],\n",
       "       [-0.35399391, -1.37495129],\n",
       "       [-0.6436184 , -2.22340315],\n",
       "       [ 0.62523145, -1.60205766],\n",
       "       [-1.10438334,  0.05216508],\n",
       "       [-0.739563  ,  1.5430146 ],\n",
       "       [-1.29285691,  0.26705087],\n",
       "       [-0.03928282, -1.1680935 ],\n",
       "       [ 0.52327666, -0.17154633],\n",
       "       [ 0.77179055,  0.82350415],\n",
       "       [ 2.16323595,  1.33652795],\n",
       "       [-0.36918184, -0.23937918],\n",
       "       [ 1.0996596 ,  0.65526373],\n",
       "       [ 0.64013153, -1.61695604],\n",
       "       [-0.02432612, -0.73803091],\n",
       "       [ 0.2799246 , -0.09815039],\n",
       "       [ 0.91017891,  0.31721822],\n",
       "       [ 0.78632796, -0.4664191 ],\n",
       "       [-0.94444626, -0.41004969],\n",
       "       [-0.01702041,  0.37915174],\n",
       "       [ 2.25930895, -0.04225715],\n",
       "       [-0.955945  , -0.34598178],\n",
       "       [-0.46359597,  0.48148147],\n",
       "       [-1.54079701,  0.06326199],\n",
       "       [ 0.15650654,  0.23218104],\n",
       "       [-0.59731607, -0.23792173],\n",
       "       [-1.42406091, -0.49331988],\n",
       "       [-0.54286148,  0.41605005],\n",
       "       [-1.15618243,  0.7811981 ],\n",
       "       [ 1.49448454, -2.06998503],\n",
       "       [ 0.42625873,  0.67690804],\n",
       "       [-0.63743703, -0.39727181],\n",
       "       [-0.13288058, -0.29779088],\n",
       "       [-0.30901297, -1.67600381],\n",
       "       [ 1.15233156,  1.07961859],\n",
       "       [-0.81336426, -1.46642433],\n",
       "       [ 0.52106488, -0.57578797],\n",
       "       [ 0.14195316, -0.31932842],\n",
       "       [ 0.69153875,  0.69474914],\n",
       "       [-0.72559738, -1.38336396],\n",
       "       [-1.5829384 ,  0.61037938],\n",
       "       [-1.18885926, -0.50681635],\n",
       "       [-0.59631404, -0.0525673 ],\n",
       "       [-1.93627981,  0.1887786 ],\n",
       "       [ 0.52389102,  0.08842209],\n",
       "       [-0.31088617,  0.09740017],\n",
       "       [ 0.39904635, -2.77259276],\n",
       "       [ 1.95591231,  0.39009332],\n",
       "       [-0.65240858, -0.39095338],\n",
       "       [ 0.49374178, -0.11610394],\n",
       "       [-2.03068447,  2.06449286],\n",
       "       [-0.11054066,  1.02017271],\n",
       "       [-0.69204985,  1.53637705],\n",
       "       [ 0.28634369,  0.60884383],\n",
       "       [-1.04525337,  1.21114529],\n",
       "       [ 0.68981816,  1.30184623],\n",
       "       [-0.62808756, -0.48102712],\n",
       "       [ 2.3039167 , -1.06001582],\n",
       "       [-0.1359497 ,  1.13689136],\n",
       "       [ 0.09772497,  0.58295368],\n",
       "       [-0.39944903,  0.37005589],\n",
       "       [-1.30652685,  1.65813068],\n",
       "       [-0.11816405, -0.6801782 ],\n",
       "       [ 0.66638308, -0.46071979],\n",
       "       [-1.33425847, -1.34671751],\n",
       "       [ 0.69377315, -0.15957344],\n",
       "       [-0.13370156,  1.07774381],\n",
       "       [-1.12682581, -0.73067775],\n",
       "       [-0.38487981,  0.09435159],\n",
       "       [-0.04217145, -0.28688719],\n",
       "       [-0.0616264 , -0.10730528],\n",
       "       [-0.71960439, -0.81299299],\n",
       "       [ 0.27451636, -0.89091508],\n",
       "       [-1.15735526, -0.31229225],\n",
       "       [-0.15766702,  2.2567235 ],\n",
       "       [-0.70470028,  0.94326072],\n",
       "       [ 0.74718833, -1.18894496],\n",
       "       [ 0.77325298, -1.18388064],\n",
       "       [-2.65917224,  0.60631952],\n",
       "       [-1.75589058,  0.45093446],\n",
       "       [-0.6840109 ,  1.6595508 ],\n",
       "       [ 1.0685094 , -0.4533858 ],\n",
       "       [-0.68783761, -1.2140774 ],\n",
       "       [-0.44092263, -0.2803555 ],\n",
       "       [-0.36469354,  0.15670386],\n",
       "       [ 0.5785215 ,  0.34965446],\n",
       "       [-0.76414392, -1.43779147],\n",
       "       [ 1.36453185, -0.68944918],\n",
       "       [-0.6522936 , -0.52118931],\n",
       "       [-1.84306955, -0.477974  ],\n",
       "       [-0.47965581,  0.6203583 ],\n",
       "       [ 0.69845715,  0.00377089],\n",
       "       [ 0.93184837,  0.33996498],\n",
       "       [-0.01568211,  0.16092817],\n",
       "       [-0.19065349, -0.39484951],\n",
       "       [-0.26773354, -1.12801133],\n",
       "       [ 0.28044171, -0.99312361],\n",
       "       [ 0.84163126, -0.24945858],\n",
       "       [ 0.04949498,  0.49383678],\n",
       "       [ 0.64331447, -1.57062341],\n",
       "       [-0.20690368,  0.88017891],\n",
       "       [-1.69810582,  0.38728048],\n",
       "       [-2.25556423, -1.02250684],\n",
       "       [ 0.03863055, -1.6567151 ],\n",
       "       [-0.98551074, -1.47183501],\n",
       "       [ 1.64813493,  0.16422776],\n",
       "       [ 0.56729028, -0.2226751 ],\n",
       "       [-0.35343175, -1.61647419],\n",
       "       [-0.29183736, -0.76149221],\n",
       "       [ 0.85792392,  1.14110187],\n",
       "       [ 1.46657872,  0.85255194]])"
      ]
     },
     "execution_count": 419,
     "metadata": {},
     "output_type": "execute_result"
    }
   ],
   "source": [
    "X_xor"
   ]
  },
  {
   "cell_type": "code",
   "execution_count": 420,
   "metadata": {},
   "outputs": [
    {
     "data": {
      "text/plain": [
       "array([-1, -1,  1,  1,  1, -1, -1, -1,  1,  1,  1,  1,  1,  1, -1, -1, -1,\n",
       "        1, -1, -1, -1,  1, -1,  1, -1,  1, -1,  1, -1, -1, -1, -1,  1,  1,\n",
       "        1, -1,  1,  1, -1,  1,  1,  1, -1,  1,  1,  1, -1, -1, -1, -1,  1,\n",
       "        1,  1, -1, -1, -1,  1,  1,  1, -1,  1, -1, -1,  1, -1,  1,  1,  1,\n",
       "        1,  1,  1, -1, -1,  1, -1,  1, -1, -1,  1, -1,  1, -1,  1, -1, -1,\n",
       "       -1,  1,  1, -1,  1, -1, -1,  1,  1,  1,  1, -1,  1, -1, -1, -1, -1,\n",
       "        1, -1,  1, -1,  1, -1,  1,  1, -1,  1,  1, -1, -1, -1,  1,  1,  1,\n",
       "       -1, -1, -1, -1, -1, -1,  1,  1, -1, -1,  1, -1, -1,  1, -1,  1,  1,\n",
       "       -1, -1,  1,  1,  1,  1, -1,  1, -1, -1,  1,  1, -1,  1,  1, -1,  1,\n",
       "       -1,  1,  1, -1,  1, -1, -1, -1,  1, -1,  1,  1,  1,  1,  1,  1,  1,\n",
       "        1, -1, -1,  1, -1, -1,  1, -1, -1,  1, -1, -1,  1, -1, -1,  1,  1,\n",
       "       -1,  1,  1,  1, -1,  1, -1, -1,  1, -1, -1, -1, -1])"
      ]
     },
     "execution_count": 420,
     "metadata": {},
     "output_type": "execute_result"
    }
   ],
   "source": [
    "y_xor"
   ]
  },
  {
   "cell_type": "code",
   "execution_count": 421,
   "metadata": {},
   "outputs": [
    {
     "data": {
      "image/png": "[encoded data removed]",
      "text/plain": [
       "<matplotlib.figure.Figure at 0x1defe7c1668>"
      ]
     },
     "metadata": {},
     "output_type": "display_data"
    }
   ],
   "source": [
    "svm = SVC(kernel='rbf', random_state=0, gamma=0.10, C=10.0)\n",
    "# 使用rbf kernel gamma是參數\n",
    "svm.fit(X_xor, y_xor)\n",
    "plot_decision_regions(X_xor, y_xor,classifier=svm)\n",
    "\n",
    "plt.legend(loc='upper left')\n",
    "\n",
    "plt.show()"
   ]
  },
  {
   "cell_type": "code",
   "execution_count": 422,
   "metadata": {},
   "outputs": [
    {
     "name": "stdout",
     "output_type": "stream",
     "text": [
      "Accuracy: 0.95\n"
     ]
    }
   ],
   "source": [
    "y_pred = svm.predict(X_xor)\n",
    "print('Accuracy: %.2f' % accuracy_score(y_xor, y_pred))"
   ]
  },
  {
   "cell_type": "markdown",
   "metadata": {},
   "source": [
    "實驗 gamma"
   ]
  },
  {
   "cell_type": "code",
   "execution_count": 423,
   "metadata": {},
   "outputs": [
    {
     "data": {
      "image/png": "[encoded data removed]",
      "text/plain": [
       "<matplotlib.figure.Figure at 0x1defe898f60>"
      ]
     },
     "metadata": {},
     "output_type": "display_data"
    }
   ],
   "source": [
    "from sklearn.svm import SVC\n",
    "\n",
    "svm = SVC(kernel='rbf', random_state=0, gamma=0.5, C=1.0)\n",
    "svm.fit(X_train_std, y_train)\n",
    "\n",
    "plot_decision_regions(X_combined_std, y_combined,\n",
    "                      classifier=svm, test_idx=range(105, 150))\n",
    "plt.xlabel('petal length [standardized]')\n",
    "plt.ylabel('petal width [standardized]')\n",
    "plt.legend(loc='upper left')\n",
    "\n",
    "plt.show()"
   ]
  },
  {
   "cell_type": "code",
   "execution_count": 424,
   "metadata": {},
   "outputs": [
    {
     "name": "stdout",
     "output_type": "stream",
     "text": [
      "Accuracy: 0.98\n"
     ]
    }
   ],
   "source": [
    "y_pred = svm.predict(X_test_std)\n",
    "print('Accuracy: %.2f' % accuracy_score(y_test, y_pred))"
   ]
  },
  {
   "cell_type": "code",
   "execution_count": 425,
   "metadata": {},
   "outputs": [
    {
     "data": {
      "image/png": "[encoded data removed]",
      "text/plain": [
       "<matplotlib.figure.Figure at 0x1defc6552e8>"
      ]
     },
     "metadata": {},
     "output_type": "display_data"
    }
   ],
   "source": [
    "svm = SVC(kernel='rbf', random_state=0, gamma=100.0, C=1.0)\n",
    "svm.fit(X_train_std, y_train)\n",
    "\n",
    "plot_decision_regions(X_combined_std, y_combined, \n",
    "                      classifier=svm, test_idx=range(105, 150))\n",
    "plt.xlabel('petal length [standardized]')\n",
    "plt.ylabel('petal width [standardized]')\n",
    "plt.legend(loc='upper left')\n",
    "\n",
    "plt.show()"
   ]
  },
  {
   "cell_type": "markdown",
   "metadata": {},
   "source": [
    "# KNN"
   ]
  },
  {
   "cell_type": "code",
   "execution_count": 426,
   "metadata": {},
   "outputs": [
    {
     "data": {
      "image/png": "[encoded data removed]",
      "text/plain": [
       "<matplotlib.figure.Figure at 0x1defec1ec18>"
      ]
     },
     "metadata": {},
     "output_type": "display_data"
    }
   ],
   "source": [
    "from sklearn.neighbors import KNeighborsClassifier\n",
    "\n",
    "knn = KNeighborsClassifier(n_neighbors=5, p=2, metric='minkowski')\n",
    "knn.fit(X_train_std, y_train)\n",
    "\n",
    "plot_decision_regions(X_combined_std, y_combined, classifier=knn, test_idx=range(105, 150))\n",
    "\n",
    "plt.xlabel('petal length [standardized]')\n",
    "plt.ylabel('petal width [standardized]')\n",
    "plt.legend(loc='upper left')\n",
    "plt.tight_layout()\n",
    "\n",
    "plt.show()"
   ]
  },
  {
   "cell_type": "code",
   "execution_count": null,
   "metadata": {
    "collapsed": true
   },
   "outputs": [],
   "source": []
  }
 ],
 "metadata": {
  "kernelspec": {
   "display_name": "Python 3",
   "language": "python",
   "name": "python3"
  },
  "language_info": {
   "codemirror_mode": {
    "name": "ipython",
    "version": 3
   },
   "file_extension": ".py",
   "mimetype": "text/x-python",
   "name": "python",
   "nbconvert_exporter": "python",
   "pygments_lexer": "ipython3",
   "version": "3.6.1"
  }
 },
 "nbformat": 4,
 "nbformat_minor": 2
}
