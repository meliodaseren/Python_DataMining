{
 "cells": [
  {
   "cell_type": "markdown",
   "metadata": {},
   "source": [
    "# Feature Selection"
   ]
  },
  {
   "cell_type": "code",
   "execution_count": 1,
   "metadata": {},
   "outputs": [
    {
     "data": {
      "text/plain": [
       "(150, 4)"
      ]
     },
     "execution_count": 1,
     "metadata": {},
     "output_type": "execute_result"
    }
   ],
   "source": [
    "from sklearn.datasets import load_iris\n",
    "from sklearn.feature_selection import SelectKBest\n",
    "from sklearn.feature_selection import chi2\n",
    "\n",
    "iris = load_iris()\n",
    "X, y = iris.data, iris.target\n",
    "X.shape"
   ]
  },
  {
   "cell_type": "code",
   "execution_count": 2,
   "metadata": {},
   "outputs": [
    {
     "data": {
      "text/plain": [
       "(150, 2)"
      ]
     },
     "execution_count": 2,
     "metadata": {},
     "output_type": "execute_result"
    }
   ],
   "source": [
    "X_new = SelectKBest(chi2, k=2).fit_transform(X, y)\n",
    "X_new.shape"
   ]
  },
  {
   "cell_type": "code",
   "execution_count": 3,
   "metadata": {},
   "outputs": [
    {
     "data": {
      "text/plain": [
       "array([[ 5.1,  1.4,  0.2],\n",
       "       [ 4.9,  1.4,  0.2],\n",
       "       [ 4.7,  1.3,  0.2],\n",
       "       [ 4.6,  1.5,  0.2],\n",
       "       [ 5. ,  1.4,  0.2],\n",
       "       [ 5.4,  1.7,  0.4],\n",
       "       [ 4.6,  1.4,  0.3],\n",
       "       [ 5. ,  1.5,  0.2],\n",
       "       [ 4.4,  1.4,  0.2],\n",
       "       [ 4.9,  1.5,  0.1],\n",
       "       [ 5.4,  1.5,  0.2],\n",
       "       [ 4.8,  1.6,  0.2],\n",
       "       [ 4.8,  1.4,  0.1],\n",
       "       [ 4.3,  1.1,  0.1],\n",
       "       [ 5.8,  1.2,  0.2],\n",
       "       [ 5.7,  1.5,  0.4],\n",
       "       [ 5.4,  1.3,  0.4],\n",
       "       [ 5.1,  1.4,  0.3],\n",
       "       [ 5.7,  1.7,  0.3],\n",
       "       [ 5.1,  1.5,  0.3],\n",
       "       [ 5.4,  1.7,  0.2],\n",
       "       [ 5.1,  1.5,  0.4],\n",
       "       [ 4.6,  1. ,  0.2],\n",
       "       [ 5.1,  1.7,  0.5],\n",
       "       [ 4.8,  1.9,  0.2],\n",
       "       [ 5. ,  1.6,  0.2],\n",
       "       [ 5. ,  1.6,  0.4],\n",
       "       [ 5.2,  1.5,  0.2],\n",
       "       [ 5.2,  1.4,  0.2],\n",
       "       [ 4.7,  1.6,  0.2],\n",
       "       [ 4.8,  1.6,  0.2],\n",
       "       [ 5.4,  1.5,  0.4],\n",
       "       [ 5.2,  1.5,  0.1],\n",
       "       [ 5.5,  1.4,  0.2],\n",
       "       [ 4.9,  1.5,  0.1],\n",
       "       [ 5. ,  1.2,  0.2],\n",
       "       [ 5.5,  1.3,  0.2],\n",
       "       [ 4.9,  1.5,  0.1],\n",
       "       [ 4.4,  1.3,  0.2],\n",
       "       [ 5.1,  1.5,  0.2],\n",
       "       [ 5. ,  1.3,  0.3],\n",
       "       [ 4.5,  1.3,  0.3],\n",
       "       [ 4.4,  1.3,  0.2],\n",
       "       [ 5. ,  1.6,  0.6],\n",
       "       [ 5.1,  1.9,  0.4],\n",
       "       [ 4.8,  1.4,  0.3],\n",
       "       [ 5.1,  1.6,  0.2],\n",
       "       [ 4.6,  1.4,  0.2],\n",
       "       [ 5.3,  1.5,  0.2],\n",
       "       [ 5. ,  1.4,  0.2],\n",
       "       [ 7. ,  4.7,  1.4],\n",
       "       [ 6.4,  4.5,  1.5],\n",
       "       [ 6.9,  4.9,  1.5],\n",
       "       [ 5.5,  4. ,  1.3],\n",
       "       [ 6.5,  4.6,  1.5],\n",
       "       [ 5.7,  4.5,  1.3],\n",
       "       [ 6.3,  4.7,  1.6],\n",
       "       [ 4.9,  3.3,  1. ],\n",
       "       [ 6.6,  4.6,  1.3],\n",
       "       [ 5.2,  3.9,  1.4],\n",
       "       [ 5. ,  3.5,  1. ],\n",
       "       [ 5.9,  4.2,  1.5],\n",
       "       [ 6. ,  4. ,  1. ],\n",
       "       [ 6.1,  4.7,  1.4],\n",
       "       [ 5.6,  3.6,  1.3],\n",
       "       [ 6.7,  4.4,  1.4],\n",
       "       [ 5.6,  4.5,  1.5],\n",
       "       [ 5.8,  4.1,  1. ],\n",
       "       [ 6.2,  4.5,  1.5],\n",
       "       [ 5.6,  3.9,  1.1],\n",
       "       [ 5.9,  4.8,  1.8],\n",
       "       [ 6.1,  4. ,  1.3],\n",
       "       [ 6.3,  4.9,  1.5],\n",
       "       [ 6.1,  4.7,  1.2],\n",
       "       [ 6.4,  4.3,  1.3],\n",
       "       [ 6.6,  4.4,  1.4],\n",
       "       [ 6.8,  4.8,  1.4],\n",
       "       [ 6.7,  5. ,  1.7],\n",
       "       [ 6. ,  4.5,  1.5],\n",
       "       [ 5.7,  3.5,  1. ],\n",
       "       [ 5.5,  3.8,  1.1],\n",
       "       [ 5.5,  3.7,  1. ],\n",
       "       [ 5.8,  3.9,  1.2],\n",
       "       [ 6. ,  5.1,  1.6],\n",
       "       [ 5.4,  4.5,  1.5],\n",
       "       [ 6. ,  4.5,  1.6],\n",
       "       [ 6.7,  4.7,  1.5],\n",
       "       [ 6.3,  4.4,  1.3],\n",
       "       [ 5.6,  4.1,  1.3],\n",
       "       [ 5.5,  4. ,  1.3],\n",
       "       [ 5.5,  4.4,  1.2],\n",
       "       [ 6.1,  4.6,  1.4],\n",
       "       [ 5.8,  4. ,  1.2],\n",
       "       [ 5. ,  3.3,  1. ],\n",
       "       [ 5.6,  4.2,  1.3],\n",
       "       [ 5.7,  4.2,  1.2],\n",
       "       [ 5.7,  4.2,  1.3],\n",
       "       [ 6.2,  4.3,  1.3],\n",
       "       [ 5.1,  3. ,  1.1],\n",
       "       [ 5.7,  4.1,  1.3],\n",
       "       [ 6.3,  6. ,  2.5],\n",
       "       [ 5.8,  5.1,  1.9],\n",
       "       [ 7.1,  5.9,  2.1],\n",
       "       [ 6.3,  5.6,  1.8],\n",
       "       [ 6.5,  5.8,  2.2],\n",
       "       [ 7.6,  6.6,  2.1],\n",
       "       [ 4.9,  4.5,  1.7],\n",
       "       [ 7.3,  6.3,  1.8],\n",
       "       [ 6.7,  5.8,  1.8],\n",
       "       [ 7.2,  6.1,  2.5],\n",
       "       [ 6.5,  5.1,  2. ],\n",
       "       [ 6.4,  5.3,  1.9],\n",
       "       [ 6.8,  5.5,  2.1],\n",
       "       [ 5.7,  5. ,  2. ],\n",
       "       [ 5.8,  5.1,  2.4],\n",
       "       [ 6.4,  5.3,  2.3],\n",
       "       [ 6.5,  5.5,  1.8],\n",
       "       [ 7.7,  6.7,  2.2],\n",
       "       [ 7.7,  6.9,  2.3],\n",
       "       [ 6. ,  5. ,  1.5],\n",
       "       [ 6.9,  5.7,  2.3],\n",
       "       [ 5.6,  4.9,  2. ],\n",
       "       [ 7.7,  6.7,  2. ],\n",
       "       [ 6.3,  4.9,  1.8],\n",
       "       [ 6.7,  5.7,  2.1],\n",
       "       [ 7.2,  6. ,  1.8],\n",
       "       [ 6.2,  4.8,  1.8],\n",
       "       [ 6.1,  4.9,  1.8],\n",
       "       [ 6.4,  5.6,  2.1],\n",
       "       [ 7.2,  5.8,  1.6],\n",
       "       [ 7.4,  6.1,  1.9],\n",
       "       [ 7.9,  6.4,  2. ],\n",
       "       [ 6.4,  5.6,  2.2],\n",
       "       [ 6.3,  5.1,  1.5],\n",
       "       [ 6.1,  5.6,  1.4],\n",
       "       [ 7.7,  6.1,  2.3],\n",
       "       [ 6.3,  5.6,  2.4],\n",
       "       [ 6.4,  5.5,  1.8],\n",
       "       [ 6. ,  4.8,  1.8],\n",
       "       [ 6.9,  5.4,  2.1],\n",
       "       [ 6.7,  5.6,  2.4],\n",
       "       [ 6.9,  5.1,  2.3],\n",
       "       [ 5.8,  5.1,  1.9],\n",
       "       [ 6.8,  5.9,  2.3],\n",
       "       [ 6.7,  5.7,  2.5],\n",
       "       [ 6.7,  5.2,  2.3],\n",
       "       [ 6.3,  5. ,  1.9],\n",
       "       [ 6.5,  5.2,  2. ],\n",
       "       [ 6.2,  5.4,  2.3],\n",
       "       [ 5.9,  5.1,  1.8]])"
      ]
     },
     "execution_count": 3,
     "metadata": {},
     "output_type": "execute_result"
    }
   ],
   "source": [
    "from sklearn.feature_selection import VarianceThreshold\n",
    "X = iris.data\n",
    "\n",
    "sel = VarianceThreshold(threshold=(0.5))\n",
    "sel.fit_transform(X)"
   ]
  },
  {
   "cell_type": "code",
   "execution_count": 4,
   "metadata": {},
   "outputs": [
    {
     "name": "stdout",
     "output_type": "stream",
     "text": [
      "Class labels [1 2 3]\n"
     ]
    },
    {
     "data": {
      "text/html": [
       "<div>\n",
       "<style>\n",
       "    .dataframe thead tr:only-child th {\n",
       "        text-align: right;\n",
       "    }\n",
       "\n",
       "    .dataframe thead th {\n",
       "        text-align: left;\n",
       "    }\n",
       "\n",
       "    .dataframe tbody tr th {\n",
       "        vertical-align: top;\n",
       "    }\n",
       "</style>\n",
       "<table border=\"1\" class=\"dataframe\">\n",
       "  <thead>\n",
       "    <tr style=\"text-align: right;\">\n",
       "      <th></th>\n",
       "      <th>Class label</th>\n",
       "      <th>Alcohol</th>\n",
       "      <th>Malic acid</th>\n",
       "      <th>Ash</th>\n",
       "      <th>Alcalinity of ash</th>\n",
       "      <th>Magnesium</th>\n",
       "      <th>Total phenols</th>\n",
       "      <th>Flavanoids</th>\n",
       "      <th>Nonflavanoid phenols</th>\n",
       "      <th>Proanthocyanins</th>\n",
       "      <th>Color intensity</th>\n",
       "      <th>Hue</th>\n",
       "      <th>OD280/OD315 of diluted wines</th>\n",
       "      <th>Proline</th>\n",
       "    </tr>\n",
       "  </thead>\n",
       "  <tbody>\n",
       "    <tr>\n",
       "      <th>0</th>\n",
       "      <td>1</td>\n",
       "      <td>14.23</td>\n",
       "      <td>1.71</td>\n",
       "      <td>2.43</td>\n",
       "      <td>15.6</td>\n",
       "      <td>127</td>\n",
       "      <td>2.80</td>\n",
       "      <td>3.06</td>\n",
       "      <td>0.28</td>\n",
       "      <td>2.29</td>\n",
       "      <td>5.64</td>\n",
       "      <td>1.04</td>\n",
       "      <td>3.92</td>\n",
       "      <td>1065</td>\n",
       "    </tr>\n",
       "    <tr>\n",
       "      <th>1</th>\n",
       "      <td>1</td>\n",
       "      <td>13.20</td>\n",
       "      <td>1.78</td>\n",
       "      <td>2.14</td>\n",
       "      <td>11.2</td>\n",
       "      <td>100</td>\n",
       "      <td>2.65</td>\n",
       "      <td>2.76</td>\n",
       "      <td>0.26</td>\n",
       "      <td>1.28</td>\n",
       "      <td>4.38</td>\n",
       "      <td>1.05</td>\n",
       "      <td>3.40</td>\n",
       "      <td>1050</td>\n",
       "    </tr>\n",
       "    <tr>\n",
       "      <th>2</th>\n",
       "      <td>1</td>\n",
       "      <td>13.16</td>\n",
       "      <td>2.36</td>\n",
       "      <td>2.67</td>\n",
       "      <td>18.6</td>\n",
       "      <td>101</td>\n",
       "      <td>2.80</td>\n",
       "      <td>3.24</td>\n",
       "      <td>0.30</td>\n",
       "      <td>2.81</td>\n",
       "      <td>5.68</td>\n",
       "      <td>1.03</td>\n",
       "      <td>3.17</td>\n",
       "      <td>1185</td>\n",
       "    </tr>\n",
       "    <tr>\n",
       "      <th>3</th>\n",
       "      <td>1</td>\n",
       "      <td>14.37</td>\n",
       "      <td>1.95</td>\n",
       "      <td>2.50</td>\n",
       "      <td>16.8</td>\n",
       "      <td>113</td>\n",
       "      <td>3.85</td>\n",
       "      <td>3.49</td>\n",
       "      <td>0.24</td>\n",
       "      <td>2.18</td>\n",
       "      <td>7.80</td>\n",
       "      <td>0.86</td>\n",
       "      <td>3.45</td>\n",
       "      <td>1480</td>\n",
       "    </tr>\n",
       "    <tr>\n",
       "      <th>4</th>\n",
       "      <td>1</td>\n",
       "      <td>13.24</td>\n",
       "      <td>2.59</td>\n",
       "      <td>2.87</td>\n",
       "      <td>21.0</td>\n",
       "      <td>118</td>\n",
       "      <td>2.80</td>\n",
       "      <td>2.69</td>\n",
       "      <td>0.39</td>\n",
       "      <td>1.82</td>\n",
       "      <td>4.32</td>\n",
       "      <td>1.04</td>\n",
       "      <td>2.93</td>\n",
       "      <td>735</td>\n",
       "    </tr>\n",
       "  </tbody>\n",
       "</table>\n",
       "</div>"
      ],
      "text/plain": [
       "   Class label  Alcohol  Malic acid   Ash  Alcalinity of ash  Magnesium  \\\n",
       "0            1    14.23        1.71  2.43               15.6        127   \n",
       "1            1    13.20        1.78  2.14               11.2        100   \n",
       "2            1    13.16        2.36  2.67               18.6        101   \n",
       "3            1    14.37        1.95  2.50               16.8        113   \n",
       "4            1    13.24        2.59  2.87               21.0        118   \n",
       "\n",
       "   Total phenols  Flavanoids  Nonflavanoid phenols  Proanthocyanins  \\\n",
       "0           2.80        3.06                  0.28             2.29   \n",
       "1           2.65        2.76                  0.26             1.28   \n",
       "2           2.80        3.24                  0.30             2.81   \n",
       "3           3.85        3.49                  0.24             2.18   \n",
       "4           2.80        2.69                  0.39             1.82   \n",
       "\n",
       "   Color intensity   Hue  OD280/OD315 of diluted wines  Proline  \n",
       "0             5.64  1.04                          3.92     1065  \n",
       "1             4.38  1.05                          3.40     1050  \n",
       "2             5.68  1.03                          3.17     1185  \n",
       "3             7.80  0.86                          3.45     1480  \n",
       "4             4.32  1.04                          2.93      735  "
      ]
     },
     "execution_count": 4,
     "metadata": {},
     "output_type": "execute_result"
    }
   ],
   "source": [
    "import pandas as pd\n",
    "import numpy as np\n",
    "\n",
    "df_wine = pd.read_csv('https://archive.ics.uci.edu/'\n",
    "                      'ml/machine-learning-databases/wine/wine.data',\n",
    "                      header=None)\n",
    "\n",
    "df_wine.columns = ['Class label', 'Alcohol', 'Malic acid', 'Ash',\n",
    "                   'Alcalinity of ash', 'Magnesium', 'Total phenols',\n",
    "                   'Flavanoids', 'Nonflavanoid phenols', 'Proanthocyanins',\n",
    "                   'Color intensity', 'Hue', 'OD280/OD315 of diluted wines',\n",
    "                   'Proline']\n",
    "\n",
    "print('Class labels', np.unique(df_wine['Class label']))\n",
    "df_wine.head()"
   ]
  },
  {
   "cell_type": "markdown",
   "metadata": {},
   "source": [
    "# L1-based feature selection"
   ]
  },
  {
   "cell_type": "code",
   "execution_count": 6,
   "metadata": {
    "collapsed": true
   },
   "outputs": [],
   "source": [
    "from sklearn.model_selection import train_test_split\n",
    "\n",
    "X, y = df_wine.iloc[:, 1:].values, df_wine.iloc[:, 0].values\n",
    "\n",
    "X_train, X_test, y_train, y_test = train_test_split(X, y, test_size=0.3, random_state=0)"
   ]
  },
  {
   "cell_type": "code",
   "execution_count": 7,
   "metadata": {
    "collapsed": true
   },
   "outputs": [],
   "source": [
    "from sklearn.preprocessing import StandardScaler\n",
    "\n",
    "stdsc = StandardScaler()\n",
    "X_train_std = stdsc.fit_transform(X_train)\n",
    "X_test_std = stdsc.transform(X_test)"
   ]
  },
  {
   "cell_type": "code",
   "execution_count": 8,
   "metadata": {},
   "outputs": [
    {
     "name": "stdout",
     "output_type": "stream",
     "text": [
      "Training accuracy: 0.983870967742\n",
      "Test accuracy: 0.981481481481\n"
     ]
    }
   ],
   "source": [
    "from sklearn.linear_model import LogisticRegression\n",
    "\n",
    "lr = LogisticRegression(penalty='l1', C=0.1)\n",
    "lr.fit(X_train_std, y_train)\n",
    "print('Training accuracy:', lr.score(X_train_std, y_train))\n",
    "print('Test accuracy:', lr.score(X_test_std, y_test))"
   ]
  },
  {
   "cell_type": "code",
   "execution_count": 9,
   "metadata": {},
   "outputs": [
    {
     "data": {
      "text/plain": [
       "array([[ 0.28043291,  0.        ,  0.        , -0.02802896,  0.        ,\n",
       "         0.        ,  0.7102312 ,  0.        ,  0.        ,  0.        ,\n",
       "         0.        ,  0.        ,  1.23573843],\n",
       "       [-0.64371094, -0.0690006 , -0.05713752,  0.        ,  0.        ,\n",
       "         0.        ,  0.        ,  0.        ,  0.        , -0.92725269,\n",
       "         0.05964093,  0.        , -0.37107024],\n",
       "       [ 0.        ,  0.06145694,  0.        ,  0.        ,  0.        ,\n",
       "         0.        , -0.63694116,  0.        ,  0.        ,  0.49848533,\n",
       "        -0.35802568, -0.5703788 ,  0.        ]])"
      ]
     },
     "execution_count": 9,
     "metadata": {},
     "output_type": "execute_result"
    }
   ],
   "source": [
    "lr.coef_"
   ]
  },
  {
   "cell_type": "code",
   "execution_count": 10,
   "metadata": {},
   "outputs": [
    {
     "data": {
      "image/png": "[encoded data removed]",
      "text/plain": [
       "<matplotlib.figure.Figure at 0xc168828>"
      ]
     },
     "metadata": {},
     "output_type": "display_data"
    }
   ],
   "source": [
    "import matplotlib.pyplot as plt\n",
    "\n",
    "fig = plt.figure()\n",
    "ax = plt.subplot(111)\n",
    "    \n",
    "colors = ['blue', 'green', 'red', 'cyan', \n",
    "          'magenta', 'yellow', 'black', \n",
    "          'pink', 'lightgreen', 'lightblue', \n",
    "          'gray', 'indigo', 'orange']\n",
    "\n",
    "weights, params = [], []\n",
    "for c in np.arange(-4., 6.):\n",
    "    lr = LogisticRegression(penalty='l1', C=10.**c, random_state=0)\n",
    "    lr.fit(X_train_std, y_train)\n",
    "    weights.append(lr.coef_[1])\n",
    "    params.append(10.**c)\n",
    "\n",
    "weights = np.array(weights)\n",
    "\n",
    "for column, color in zip(range(weights.shape[1]), colors):\n",
    "    plt.plot(params, weights[:, column],\n",
    "             label=df_wine.columns[column + 1],\n",
    "             color=color)\n",
    "    \n",
    "plt.axhline(0, color='black', linestyle='--', linewidth=3)\n",
    "plt.xlim([10**(-5), 10**5])\n",
    "plt.ylabel('weight coefficient')\n",
    "plt.xlabel('C')\n",
    "plt.xscale('log')\n",
    "plt.legend(loc='upper left')\n",
    "ax.legend(loc='upper center', \n",
    "          bbox_to_anchor=(1.38, 1.03),\n",
    "          ncol=1, fancybox=True)\n",
    "plt.show()"
   ]
  },
  {
   "cell_type": "markdown",
   "metadata": {},
   "source": [
    "# 以隨機森林評估特徵的重要性\n"
   ]
  },
  {
   "cell_type": "markdown",
   "metadata": {},
   "source": [
    "測量在隨機森林中所有決策樹的平均不純度，以此決定特徵的重要性。"
   ]
  },
  {
   "cell_type": "code",
   "execution_count": 11,
   "metadata": {},
   "outputs": [
    {
     "name": "stdout",
     "output_type": "stream",
     "text": [
      " 1) Color intensity                0.182483\n",
      " 2) Proline                        0.158610\n",
      " 3) Flavanoids                     0.150948\n",
      " 4) OD280/OD315 of diluted wines   0.131987\n",
      " 5) Alcohol                        0.106589\n",
      " 6) Hue                            0.078243\n",
      " 7) Total phenols                  0.060718\n",
      " 8) Alcalinity of ash              0.032033\n",
      " 9) Malic acid                     0.025400\n",
      "10) Proanthocyanins                0.022351\n",
      "11) Magnesium                      0.022078\n",
      "12) Nonflavanoid phenols           0.014645\n",
      "13) Ash                            0.013916\n"
     ]
    },
    {
     "data": {
      "image/png": "[encoded data removed]",
      "text/plain": [
       "<matplotlib.figure.Figure at 0x9b0a438>"
      ]
     },
     "metadata": {},
     "output_type": "display_data"
    }
   ],
   "source": [
    "from sklearn.ensemble import RandomForestClassifier\n",
    "\n",
    "feat_labels = df_wine.columns[1:]\n",
    "\n",
    "forest = RandomForestClassifier(n_estimators=10000,\n",
    "                                random_state=0,\n",
    "                                n_jobs=-1)\n",
    "\n",
    "forest.fit(X_train, y_train)\n",
    "importances = forest.feature_importances_\n",
    "\n",
    "indices = np.argsort(importances)[::-1]\n",
    "\n",
    "for f in range(X_train.shape[1]):\n",
    "    print(\"%2d) %-*s %f\" % (f + 1, 30, \n",
    "                            feat_labels[indices[f]], \n",
    "                            importances[indices[f]]))\n",
    "\n",
    "plt.title('Feature Importances')\n",
    "plt.bar(range(X_train.shape[1]), \n",
    "        importances[indices],\n",
    "        color='lightblue', \n",
    "        align='center')\n",
    "\n",
    "plt.xticks(range(X_train.shape[1]), \n",
    "           feat_labels[indices], rotation=90)\n",
    "plt.xlim([-1, X_train.shape[1]])\n",
    "\n",
    "plt.show()"
   ]
  },
  {
   "cell_type": "code",
   "execution_count": 12,
   "metadata": {},
   "outputs": [
    {
     "data": {
      "text/plain": [
       "(124, 3)"
      ]
     },
     "execution_count": 12,
     "metadata": {},
     "output_type": "execute_result"
    }
   ],
   "source": [
    "from sklearn.feature_selection import SelectFromModel\n",
    "sfm = SelectFromModel(forest, threshold=0.15, prefit=True)\n",
    "X_selected = sfm.transform(X_train)\n",
    "\n",
    "X_selected.shape"
   ]
  },
  {
   "cell_type": "code",
   "execution_count": 13,
   "metadata": {},
   "outputs": [
    {
     "name": "stdout",
     "output_type": "stream",
     "text": [
      " 1) Color intensity                0.182483\n",
      " 2) Proline                        0.158610\n",
      " 3) Flavanoids                     0.150948\n"
     ]
    }
   ],
   "source": [
    "for f in range(X_selected.shape[1]):\n",
    "    print(\"%2d) %-*s %f\" % (f + 1, 30, \n",
    "                            feat_labels[indices[f]], \n",
    "                            importances[indices[f]]))"
   ]
  },
  {
   "cell_type": "code",
   "execution_count": null,
   "metadata": {
    "collapsed": true
   },
   "outputs": [],
   "source": []
  }
 ],
 "metadata": {
  "kernelspec": {
   "display_name": "Python 3",
   "language": "python",
   "name": "python3"
  },
  "language_info": {
   "codemirror_mode": {
    "name": "ipython",
    "version": 3
   },
   "file_extension": ".py",
   "mimetype": "text/x-python",
   "name": "python",
   "nbconvert_exporter": "python",
   "pygments_lexer": "ipython3",
   "version": "3.6.1"
  }
 },
 "nbformat": 4,
 "nbformat_minor": 2
}
