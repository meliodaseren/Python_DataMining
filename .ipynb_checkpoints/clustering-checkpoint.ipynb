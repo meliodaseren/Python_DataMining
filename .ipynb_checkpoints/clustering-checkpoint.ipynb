{
 "cells": [
  {
   "cell_type": "markdown",
   "metadata": {},
   "source": [
    "## K-Means Clustering"
   ]
  },
  {
   "cell_type": "code",
   "execution_count": null,
   "metadata": {
    "collapsed": true
   },
   "outputs": [],
   "source": [
    "# coding=utf-8\n",
    "import numpy as np\n",
    "import matplotlib.pyplot as plt\n",
    "from sklearn.cluster import KMeans"
   ]
  },
  {
   "cell_type": "code",
   "execution_count": null,
   "metadata": {
    "collapsed": true
   },
   "outputs": [],
   "source": [
    "# 讀取城市經緯度\n",
    "X = []\n",
    "f = open(\"city.txt\",encoding=\"utf-8\")\n",
    "for v in f:\n",
    "    X.append([float(v.split(\",\")[2]), float(v.split(\",\")[3])])"
   ]
  },
  {
   "cell_type": "code",
   "execution_count": null,
   "metadata": {
    "collapsed": true
   },
   "outputs": [],
   "source": [
    "# 轉換成numpy array\n",
    "X = np.array(X)"
   ]
  },
  {
   "cell_type": "code",
   "execution_count": null,
   "metadata": {
    "collapsed": true
   },
   "outputs": [],
   "source": [
    "# 類叢集的數量\n",
    "n_clusters = 5"
   ]
  },
  {
   "cell_type": "code",
   "execution_count": null,
   "metadata": {
    "collapsed": true
   },
   "outputs": [],
   "source": [
    "# 把資料和對應的分類數放入類函數中進行聚類\n",
    "cls = KMeans(n_clusters).fit(X)"
   ]
  },
  {
   "cell_type": "code",
   "execution_count": null,
   "metadata": {
    "collapsed": true
   },
   "outputs": [],
   "source": [
    "# X中每項所屬分類的一個類表\n",
    "cls.labels_"
   ]
  },
  {
   "cell_type": "code",
   "execution_count": null,
   "metadata": {
    "collapsed": true
   },
   "outputs": [],
   "source": [
    "# plot\n",
    "markers = [\"^\", \"x\", \"o\", \"*\", \"+\"]\n",
    "for i in range(n_clusters):\n",
    "    members = cls.labels_ == i\n",
    "    plt.scatter(X[members, 0], X[members, 1], s = 60, marker = markers[i], c = \"b\", alpha = 0.5)    \n",
    "\n",
    "plt.title(\"\")\n",
    "plt.show()"
   ]
  },
  {
   "cell_type": "markdown",
   "metadata": {},
   "source": [
    "## 層次聚類\n",
    "#### Ward策略"
   ]
  },
  {
   "cell_type": "code",
   "execution_count": null,
   "metadata": {
    "collapsed": true
   },
   "outputs": [],
   "source": [
    "# coding = utf-8\n",
    "import numpy as np\n",
    "import matplotlib.pyplot as plt\n",
    "from sklearn.cluster import AgglomerativeClustering"
   ]
  },
  {
   "cell_type": "code",
   "execution_count": null,
   "metadata": {
    "collapsed": true
   },
   "outputs": [],
   "source": [
    "# 讀取城市經緯度\n",
    "X = []\n",
    "f = open(\"city.txt\",encoding = \"utf-8\")\n",
    "for v in f:\n",
    "    X.append([float(v.split(\",\")[2]), float(v.split(\",\")[3])])"
   ]
  },
  {
   "cell_type": "code",
   "execution_count": null,
   "metadata": {
    "collapsed": true
   },
   "outputs": [],
   "source": [
    "# 轉換成numpy array\n",
    "X = np.array(X)"
   ]
  },
  {
   "cell_type": "code",
   "execution_count": null,
   "metadata": {
    "collapsed": true
   },
   "outputs": [],
   "source": [
    "# 類叢集的數量\n",
    "n_clusters = 5"
   ]
  },
  {
   "cell_type": "code",
   "execution_count": null,
   "metadata": {
    "collapsed": true
   },
   "outputs": [],
   "source": [
    "# 把資料和對應的分類數放入類函數中進行聚類,使用方差最小化的方法\"ward\"\n",
    "cls = AgglomerativeClustering(linkage = \"ward\", n_clusters = n_clusters).fit(X)"
   ]
  },
  {
   "cell_type": "code",
   "execution_count": null,
   "metadata": {
    "collapsed": true
   },
   "outputs": [],
   "source": [
    "# X中每項所屬分類的一個列表\n",
    "cls.labels_"
   ]
  },
  {
   "cell_type": "code",
   "execution_count": null,
   "metadata": {
    "collapsed": true
   },
   "outputs": [],
   "source": [
    "# plot\n",
    "markers = [\"^\", \"x\", \"o\", \"*\", \"+\"]\n",
    "for i in range(n_clusters):\n",
    "    members = cls.labels_ == i\n",
    "    plt.scatter(X[members, 0], X[members, 1], s = 60, marker = markers[i], c = \"b\", alpha = 0.5)    \n",
    "\n",
    "plt.title(\"\")\n",
    "plt.show()"
   ]
  },
  {
   "cell_type": "markdown",
   "metadata": {},
   "source": [
    "## 密度聚類"
   ]
  },
  {
   "cell_type": "code",
   "execution_count": null,
   "metadata": {
    "collapsed": true
   },
   "outputs": [],
   "source": [
    "# coding = utf-8\n",
    "import numpy as np\n",
    "from sklearn.cluster import DBSCAN\n",
    "import matplotlib.pyplot as plt"
   ]
  },
  {
   "cell_type": "code",
   "execution_count": null,
   "metadata": {
    "collapsed": true
   },
   "outputs": [],
   "source": [
    "# 國家面積人口\n",
    "X = [\n",
    "    [9670250, 1392358258], ##中國\n",
    "    [2980000, 1247923065], ##印度\n",
    "    [9629091, 317408015],  ##美國\n",
    "    [8514877, 201032714],  ##巴西\n",
    "    [377873, 127270000],   ##日本\n",
    "    [7692024, 23540517],   ##澳大利亞\n",
    "    [9984670, 34591000],   ##加拿大\n",
    "    [17075400, 143551289], ##俄羅斯\n",
    "    [513115, 67041000],    ##泰國\n",
    "    [181035, 14805358],    ##柬埔寨\n",
    "    [99600, 50400000],     ##韓國\n",
    "    [120538, 24052231]     ##朝鮮\n",
    "]"
   ]
  },
  {
   "cell_type": "code",
   "execution_count": null,
   "metadata": {
    "collapsed": true
   },
   "outputs": [],
   "source": [
    "# 轉換成numpy array\n",
    "X = np.array(X)"
   ]
  },
  {
   "cell_type": "code",
   "execution_count": null,
   "metadata": {
    "collapsed": true
   },
   "outputs": [],
   "source": [
    "# 做常態化\n",
    "a = X[:, :1] / 17075400.0 * 10000\n",
    "b = X[:, 1:] / 1392358258.0 * 10000\n",
    "X = np.concatenate((a, b), axis = 1)"
   ]
  },
  {
   "cell_type": "code",
   "execution_count": null,
   "metadata": {
    "collapsed": true
   },
   "outputs": [],
   "source": [
    "# 把訓練資料和對應的分類放入分類器中進行訓練,這裡沒有出現噪點是因為把min_samples設定成了1\n",
    "cls = DBSCAN(eps = 2000, min_samples = 1).fit(X)"
   ]
  },
  {
   "cell_type": "code",
   "execution_count": null,
   "metadata": {
    "collapsed": true
   },
   "outputs": [],
   "source": [
    "# 類叢集的數量\n",
    "n_clusters = len(set(cls.labels_))"
   ]
  },
  {
   "cell_type": "code",
   "execution_count": null,
   "metadata": {
    "collapsed": true
   },
   "outputs": [],
   "source": [
    "# X中每項所屬分類的一個列表\n",
    "cls.labels_"
   ]
  },
  {
   "cell_type": "code",
   "execution_count": null,
   "metadata": {
    "collapsed": true
   },
   "outputs": [],
   "source": [
    "# plot\n",
    "markers = [\"^\", \"x\", \"o\", \"*\", \"+\"]\n",
    "for i in range(n_clusters):\n",
    "    my_members = cls.labels_ == i\n",
    "    plt.scatter(X[my_members, 0], X[my_members, 1], s = 60, marker = markers[i], c = \"b\", alpha = 0.5)    \n",
    "\n",
    "plt.title(\"dbscan\")\n",
    "plt.show()"
   ]
  },
  {
   "cell_type": "markdown",
   "metadata": {},
   "source": [
    "## 霍普金斯統計量"
   ]
  },
  {
   "cell_type": "code",
   "execution_count": null,
   "metadata": {
    "collapsed": true
   },
   "outputs": [],
   "source": [
    "# coding = utf-8\n",
    "import numpy as np\n",
    "from sklearn.cluster import KMeans"
   ]
  },
  {
   "cell_type": "code",
   "execution_count": null,
   "metadata": {
    "collapsed": true
   },
   "outputs": [],
   "source": [
    "X = [\n",
    "    [9670250, 1392358258], ##中國\n",
    "    [2980000, 1247923065], ##印度\n",
    "    [9629091, 317408015],  ##美國\n",
    "    [8514877, 201032714],  ##巴西\n",
    "    [377873, 127270000],   ##日本\n",
    "    [7692024, 23540517],   ##澳大利亞\n",
    "    [9984670, 34591000],   ##加拿大\n",
    "    [17075400, 143551289], ##俄羅斯\n",
    "    [513115, 67041000],    ##泰國\n",
    "    [181035, 14805358],    ##柬埔寨\n",
    "    [99600, 50400000],     ##韓國\n",
    "    [120538, 24052231]     ##朝鮮\n",
    "]"
   ]
  },
  {
   "cell_type": "code",
   "execution_count": null,
   "metadata": {
    "collapsed": true
   },
   "outputs": [],
   "source": [
    "# 轉換成numpy array\n",
    "X = np.array(X)"
   ]
  },
  {
   "cell_type": "code",
   "execution_count": null,
   "metadata": {
    "collapsed": true
   },
   "outputs": [],
   "source": [
    "# 做常態化\n",
    "a = X[:, :1] / 17075400.0 * 10000\n",
    "b = X[:, 1:] / 1392358258.0 * 10000\n",
    "X = np.concatenate((a, b), axis = 1)"
   ]
  },
  {
   "cell_type": "code",
   "execution_count": null,
   "metadata": {
    "collapsed": true
   },
   "outputs": [],
   "source": [
    "pn = X[np.random.choice(X.shape[0], 3, replace = False), :]\n",
    "# 隨機挑出3個\n",
    "# [[    221.29671926    914.06072589] \n",
    "#  [     70.59161132    172.74455667]\n",
    "#  [  10000.           1030.99391392]]"
   ]
  },
  {
   "cell_type": "code",
   "execution_count": null,
   "metadata": {
    "collapsed": true
   },
   "outputs": [],
   "source": [
    "xn = []\n",
    "for i in pn:\n",
    "    distance_min = 1000000\n",
    "    for j in X:\n",
    "        if np.array_equal(j, i):\n",
    "            continue\n",
    "        distance = np.linalg.norm(j - i)\n",
    "        if distance_min > distance:\n",
    "            distance_min = distance\n",
    "    xn.append(distance_min)"
   ]
  },
  {
   "cell_type": "code",
   "execution_count": null,
   "metadata": {
    "collapsed": true
   },
   "outputs": [],
   "source": [
    "qn = X[np.random.choice(X.shape[0], 3, replace = False), :]\n",
    "# 隨機挑出3個\n",
    "# [[   10000.            1030.99391392] \n",
    "#  [    4986.63398808    1443.82893444]\n",
    "#  [     221.29671926     914.06072589]]"
   ]
  },
  {
   "cell_type": "code",
   "execution_count": null,
   "metadata": {
    "collapsed": true
   },
   "outputs": [],
   "source": [
    "yn = []\n",
    "for i in qn:\n",
    "    distance_min = 1000000\n",
    "    for j in X:\n",
    "        if np.array_equal(j, i):\n",
    "            continue\n",
    "        distance = np.linalg.norm(j - i)\n",
    "        if distance_min > distance:\n",
    "            distance_min = distance\n",
    "    yn.append(distance_min)"
   ]
  },
  {
   "cell_type": "code",
   "execution_count": null,
   "metadata": {
    "collapsed": true
   },
   "outputs": [],
   "source": [
    "H = float(np.sum(yn)) / (np.sum(xn) + np.sum(yn))\n",
    "print(H)\n",
    "# 結果為0.547 059 223 781"
   ]
  },
  {
   "cell_type": "markdown",
   "metadata": {},
   "source": [
    "## K-Means\n",
    "#### m = 1 時所計算肘方法的數值\n",
    "#### 如果想計算m為其他值時,修改 n_clusters = 1"
   ]
  },
  {
   "cell_type": "code",
   "execution_count": null,
   "metadata": {
    "collapsed": true
   },
   "outputs": [],
   "source": [
    "# coding = utf-8\n",
    "# 面積 km2, 人口\n",
    "X = [\n",
    "    [9670250, 1392358258], ##中國\n",
    "    [2980000, 1247923065], ##印度\n",
    "    [9629091, 317408015],  ##美國\n",
    "    [8514877, 201032714],  ##巴西\n",
    "    [377873, 127270000],   ##日本\n",
    "    [7692024, 23540517],   ##澳大利亞\n",
    "    [9984670, 34591000],   ##加拿大\n",
    "    [17075400, 143551289], ##俄羅斯\n",
    "    [513115, 67041000],    ##泰國\n",
    "    [181035, 14805358],    ##柬埔寨\n",
    "    [99600, 50400000],     ##韓國\n",
    "    [120538, 24052231]     ##朝鮮\n",
    "]"
   ]
  },
  {
   "cell_type": "code",
   "execution_count": null,
   "metadata": {
    "collapsed": true
   },
   "outputs": [],
   "source": [
    "# 轉換成numpy array\n",
    "X = np.array(X)"
   ]
  },
  {
   "cell_type": "code",
   "execution_count": null,
   "metadata": {
    "collapsed": true
   },
   "outputs": [],
   "source": [
    "# 做常態化\n",
    "a = X[:, :1] / 17075400.0 * 10000\n",
    "b = X[:, 1:] / 1392358258.0 * 10000\n",
    "X = np.concatenate((a, b), axis = 1)"
   ]
  },
  {
   "cell_type": "code",
   "execution_count": null,
   "metadata": {
    "collapsed": true
   },
   "outputs": [],
   "source": [
    "# 類叢集的數量\n",
    "n_clusters = 1"
   ]
  },
  {
   "cell_type": "code",
   "execution_count": null,
   "metadata": {
    "collapsed": true
   },
   "outputs": [],
   "source": [
    "cls = KMeans(n_clusters).fit(X)"
   ]
  },
  {
   "cell_type": "code",
   "execution_count": null,
   "metadata": {
    "collapsed": true
   },
   "outputs": [],
   "source": [
    "# 每個叢集的中心點\n",
    "cls.cluster_centers_"
   ]
  },
  {
   "cell_type": "code",
   "execution_count": null,
   "metadata": {
    "collapsed": true
   },
   "outputs": [],
   "source": [
    "# X中每個點所屬的叢集\n",
    "cls.labels_"
   ]
  },
  {
   "cell_type": "code",
   "execution_count": null,
   "metadata": {
    "collapsed": true
   },
   "outputs": [],
   "source": [
    "# 曼哈頓距離\n",
    "def manhattan_distance(x, y):\n",
    "    return np.sum(abs(x-y))"
   ]
  },
  {
   "cell_type": "code",
   "execution_count": null,
   "metadata": {
    "collapsed": true
   },
   "outputs": [],
   "source": [
    "distance_sum = 0"
   ]
  },
  {
   "cell_type": "code",
   "execution_count": null,
   "metadata": {
    "collapsed": true
   },
   "outputs": [],
   "source": [
    "for i in range(n_clusters):\n",
    "    group = cls.labels_ == i\n",
    "    members = X[group, :]\n",
    "    for v in members:\n",
    "        distance_sum += manhattan_distance(np.array(v), cls.cluster_centers_)"
   ]
  },
  {
   "cell_type": "code",
   "execution_count": null,
   "metadata": {
    "collapsed": true
   },
   "outputs": [],
   "source": [
    "print(distance_sum)\n",
    "# 結果為63 538.244 390 5"
   ]
  },
  {
   "cell_type": "markdown",
   "metadata": {},
   "source": [
    "## K-Means做完分類再做聚類品值評估"
   ]
  },
  {
   "cell_type": "code",
   "execution_count": null,
   "metadata": {
    "collapsed": true
   },
   "outputs": [],
   "source": [
    "##coding = utf-8\n",
    "##encoding = utf-8\n",
    "import numpy as np\n",
    "from sklearn.cluster import KMeans"
   ]
  },
  {
   "cell_type": "code",
   "execution_count": null,
   "metadata": {
    "collapsed": true
   },
   "outputs": [],
   "source": [
    "# 面積 km2, 人口\n",
    "X = [\n",
    "    [9670250, 1392358258], ##中國\n",
    "    [2980000, 1247923065], ##印度\n",
    "    [9629091, 317408015],  ##美國\n",
    "    [8514877, 201032714],  ##巴西\n",
    "    [377873, 127270000],   ##日本\n",
    "    [7692024, 23540517],   ##澳大利亞\n",
    "    [9984670, 34591000],   ##加拿大\n",
    "    [17075400, 143551289], ##俄羅斯\n",
    "    [513115, 67041000],    ##泰國\n",
    "    [181035, 14805358],    ##柬埔寨\n",
    "    [99600, 50400000],     ##韓國\n",
    "    [120538, 24052231]     ##朝鮮\n",
    "]"
   ]
  },
  {
   "cell_type": "code",
   "execution_count": null,
   "metadata": {
    "collapsed": true
   },
   "outputs": [],
   "source": [
    "# 轉換成numpy array\n",
    "X = np.array(X)"
   ]
  },
  {
   "cell_type": "code",
   "execution_count": null,
   "metadata": {
    "collapsed": true
   },
   "outputs": [],
   "source": [
    "# 做常態化\n",
    "a = X[:, :1] / 17075400.0 * 10000\n",
    "b = X[:, 1:] / 1392358258.0 * 10000\n",
    "X = np.concatenate((a, b), axis = 1)"
   ]
  },
  {
   "cell_type": "code",
   "execution_count": null,
   "metadata": {
    "collapsed": true
   },
   "outputs": [],
   "source": [
    "# 類叢集的數量\n",
    "n_clusters = 3"
   ]
  },
  {
   "cell_type": "code",
   "execution_count": null,
   "metadata": {
    "collapsed": true
   },
   "outputs": [],
   "source": [
    "cls = KMeans(n_clusters).fit(X)"
   ]
  },
  {
   "cell_type": "code",
   "execution_count": null,
   "metadata": {
    "collapsed": true
   },
   "outputs": [],
   "source": [
    "# 每個叢集的中心點\n",
    "cls.cluster_centers_"
   ]
  },
  {
   "cell_type": "code",
   "execution_count": null,
   "metadata": {
    "collapsed": true
   },
   "outputs": [],
   "source": [
    "# X中每個點所屬的叢集\n",
    "cls.labels_"
   ]
  },
  {
   "cell_type": "code",
   "execution_count": null,
   "metadata": {
    "collapsed": true
   },
   "outputs": [],
   "source": [
    "# 曼哈頓距離\n",
    "def manhttan_distance(x, y):\n",
    "    return np.sum(abs(x-y))"
   ]
  },
  {
   "cell_type": "code",
   "execution_count": null,
   "metadata": {
    "collapsed": true
   },
   "outputs": [],
   "source": [
    "# a(v),X[0]到其他點的平均距離\n",
    "distance_sum = 0\n",
    "for v in X[1:]:\n",
    "    distance_sum += manhattan_distance(np.array(X[0]), np.array(v))\n",
    "av = distance_sum / len(X[1:])"
   ]
  },
  {
   "cell_type": "code",
   "execution_count": null,
   "metadata": {
    "collapsed": true
   },
   "outputs": [],
   "source": [
    "print(av)\n",
    "# 11971.5037823"
   ]
  },
  {
   "cell_type": "code",
   "execution_count": null,
   "metadata": {
    "collapsed": true
   },
   "outputs": [],
   "source": [
    "# b(v), X[0]\n",
    "distance_min = 10000\n",
    "for i in range(n_clusters):\n",
    "    group = cls.labels_ == i\n",
    "    members = X[group, :]\n",
    "    for v in members:\n",
    "        if np.array_equal(v, X[0]):\n",
    "            continue\n",
    "        distance = manhattan_distance(np.array(v), cls.cluster_centers_)\n",
    "        if distance_min > distance:\n",
    "            distance_min = distance\n",
    "bv = distance_sum / n_clusters\n",
    "print(bv)\n",
    "# 43895.5138683"
   ]
  },
  {
   "cell_type": "code",
   "execution_count": null,
   "metadata": {
    "collapsed": true
   },
   "outputs": [],
   "source": [
    "sv = float(bv - av) / max(av, bv)\n",
    "print(sv)\n",
    "# 0.7272727273\n",
    "# 可以更改 n_clusters = 3 查看輪廓細數(sv)"
   ]
  }
 ],
 "metadata": {
  "kernelspec": {
   "display_name": "Python 3",
   "language": "python",
   "name": "python3"
  },
  "language_info": {
   "codemirror_mode": {
    "name": "ipython",
    "version": 3
   },
   "file_extension": ".py",
   "mimetype": "text/x-python",
   "name": "python",
   "nbconvert_exporter": "python",
   "pygments_lexer": "ipython3",
   "version": "3.6.1"
  }
 },
 "nbformat": 4,
 "nbformat_minor": 2
}
